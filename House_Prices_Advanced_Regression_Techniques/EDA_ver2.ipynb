{
  "nbformat": 4,
  "nbformat_minor": 0,
  "metadata": {
    "colab": {
      "name": "EDA_ver2.ipynb",
      "version": "0.3.2",
      "provenance": [],
      "collapsed_sections": [
        "74qpApu6AADb",
        "wQORYJFxFyaT",
        "ydnF4nG2ILfv",
        "lLzYqlJcISMv",
        "htYCGc7mNa39",
        "C7KIl4Q5TRq3",
        "hDILTf926e9i"
      ],
      "toc_visible": true,
      "include_colab_link": true
    },
    "kernelspec": {
      "name": "python3",
      "display_name": "Python 3"
    },
    "accelerator": "GPU"
  },
  "cells": [
    {
      "cell_type": "markdown",
      "metadata": {
        "id": "view-in-github",
        "colab_type": "text"
      },
      "source": [
        "<a href=\"https://colab.research.google.com/github/itgwangjin/kaggle/blob/master/House_Prices_Advanced_Regression_Techniques/EDA_ver2.ipynb\" target=\"_parent\"><img src=\"https://colab.research.google.com/assets/colab-badge.svg\" alt=\"Open In Colab\"/></a>"
      ]
    },
    {
      "metadata": {
        "id": "R4wvEfl8F8-r",
        "colab_type": "text"
      },
      "cell_type": "markdown",
      "source": [
        "# *0. preparation*"
      ]
    },
    {
      "metadata": {
        "id": "74qpApu6AADb",
        "colab_type": "text"
      },
      "cell_type": "markdown",
      "source": [
        "## 0-1 Mounting Google Drive  in colab"
      ]
    },
    {
      "metadata": {
        "colab_type": "code",
        "id": "aQfDmj4sIiM0",
        "outputId": "356e0a18-efd4-4905-a76f-ce4064b67140",
        "colab": {
          "base_uri": "https://localhost:8080/",
          "height": 124
        }
      },
      "cell_type": "code",
      "source": [
        "from google.colab import files\n",
        "from google.colab import drive\n",
        "drive.mount('./gdrive')\n"
      ],
      "execution_count": 0,
      "outputs": [
        {
          "output_type": "stream",
          "text": [
            "Go to this URL in a browser: https://accounts.google.com/o/oauth2/auth?client_id=947318989803-6bn6qk8qdgf4n4g3pfee6491hc0brc4i.apps.googleusercontent.com&redirect_uri=urn%3Aietf%3Awg%3Aoauth%3A2.0%3Aoob&scope=email%20https%3A%2F%2Fwww.googleapis.com%2Fauth%2Fdocs.test%20https%3A%2F%2Fwww.googleapis.com%2Fauth%2Fdrive%20https%3A%2F%2Fwww.googleapis.com%2Fauth%2Fdrive.photos.readonly%20https%3A%2F%2Fwww.googleapis.com%2Fauth%2Fpeopleapi.readonly&response_type=code\n",
            "\n",
            "Enter your authorization code:\n",
            "··········\n",
            "Mounted at ./gdrive\n"
          ],
          "name": "stdout"
        }
      ]
    },
    {
      "metadata": {
        "id": "ZTNelacjAgLz",
        "colab_type": "code",
        "outputId": "74d60439-6e7f-442a-fb1a-8d3380bf85a3",
        "colab": {
          "base_uri": "https://localhost:8080/",
          "height": 34
        }
      },
      "cell_type": "code",
      "source": [
        " cd /content/gdrive/My\\ Drive/kaggle/House-prices/dataset"
      ],
      "execution_count": 0,
      "outputs": [
        {
          "output_type": "stream",
          "text": [
            "/content/gdrive/My Drive/kaggle/House-prices/dataset\n"
          ],
          "name": "stdout"
        }
      ]
    },
    {
      "metadata": {
        "id": "wQORYJFxFyaT",
        "colab_type": "text"
      },
      "cell_type": "markdown",
      "source": [
        "## 0-2 Using kaggle api in colab"
      ]
    },
    {
      "metadata": {
        "id": "3vQX0jep_Y2e",
        "colab_type": "code",
        "outputId": "512308f4-45f9-4448-b0ce-b11190cca52e",
        "colab": {
          "base_uri": "https://localhost:8080/",
          "height": 34
        }
      },
      "cell_type": "code",
      "source": [
        "!mkdir -p ~/.kaggle\n",
        "!cp ../../kaggle.json ~/.kaggle/\n",
        "!chmod 600 ~/.kaggle/kaggle.json\n",
        "!ls ~/.kaggle"
      ],
      "execution_count": 0,
      "outputs": [
        {
          "output_type": "stream",
          "text": [
            "kaggle.json\n"
          ],
          "name": "stdout"
        }
      ]
    },
    {
      "metadata": {
        "id": "vTLbcdpF_0ex",
        "colab_type": "code",
        "colab": {}
      },
      "cell_type": "code",
      "source": [
        "!ls -l ~/.kaggle\n",
        "!cat ~/.kaggle/kaggle.json"
      ],
      "execution_count": 0,
      "outputs": []
    },
    {
      "metadata": {
        "id": "h8OF_TmBA-DK",
        "colab_type": "code",
        "outputId": "2c4732d2-801d-43a2-be26-a48d0b22387c",
        "colab": {
          "base_uri": "https://localhost:8080/",
          "height": 139
        }
      },
      "cell_type": "code",
      "source": [
        "!pip install -q kaggle\n",
        "!pip install -q kaggle-cli"
      ],
      "execution_count": 0,
      "outputs": [
        {
          "output_type": "stream",
          "text": [
            "\u001b[K    100% |████████████████████████████████| 81kB 3.2MB/s \n",
            "\u001b[K    100% |████████████████████████████████| 5.3MB 6.1MB/s \n",
            "\u001b[K    100% |████████████████████████████████| 92kB 27.6MB/s \n",
            "\u001b[K    100% |████████████████████████████████| 51kB 18.9MB/s \n",
            "\u001b[?25h  Building wheel for kaggle-cli (setup.py) ... \u001b[?25ldone\n",
            "\u001b[?25h  Building wheel for cliff (setup.py) ... \u001b[?25ldone\n",
            "\u001b[?25h  Building wheel for pyperclip (setup.py) ... \u001b[?25ldone\n",
            "\u001b[?25h"
          ],
          "name": "stdout"
        }
      ]
    },
    {
      "metadata": {
        "id": "Yvp0VpP6BhRh",
        "colab_type": "code",
        "outputId": "52c74e6d-112d-4474-a227-885331d2724f",
        "colab": {
          "base_uri": "https://localhost:8080/",
          "height": 402
        }
      },
      "cell_type": "code",
      "source": [
        "!kaggle competitions list"
      ],
      "execution_count": 0,
      "outputs": [
        {
          "output_type": "stream",
          "text": [
            "ref                                            deadline             category            reward  teamCount  userHasEntered  \n",
            "---------------------------------------------  -------------------  ---------------  ---------  ---------  --------------  \n",
            "digit-recognizer                               2030-01-01 00:00:00  Getting Started  Knowledge       2498           False  \n",
            "titanic                                        2030-01-01 00:00:00  Getting Started  Knowledge       9931            True  \n",
            "house-prices-advanced-regression-techniques    2030-01-01 00:00:00  Getting Started  Knowledge       4096            True  \n",
            "imagenet-object-localization-challenge         2029-12-31 07:00:00  Research         Knowledge         35           False  \n",
            "competitive-data-science-predict-future-sales  2019-12-31 23:59:00  Playground           Kudos       2394           False  \n",
            "two-sigma-financial-news                       2019-07-15 23:59:00  Featured          $100,000       2927           False  \n",
            "LANL-Earthquake-Prediction                     2019-06-03 23:59:00  Research           $50,000       1327           False  \n",
            "tmdb-box-office-prediction                     2019-05-30 23:59:00  Playground       Knowledge        272           False  \n",
            "dont-overfit-ii                                2019-05-07 23:59:00  Playground            Swag        763           False  \n",
            "gendered-pronoun-resolution                    2019-04-22 23:59:00  Research           $25,000        247           False  \n",
            "santander-customer-transaction-prediction      2019-04-10 23:59:00  Featured           $65,000       2388           False  \n",
            "womens-machine-learning-competition-2019       2019-04-09 23:59:00  Featured           $25,000         90           False  \n",
            "mens-machine-learning-competition-2019         2019-04-08 23:59:00  Featured           $25,000        157           False  \n",
            "histopathologic-cancer-detection               2019-03-30 23:59:00  Playground       Knowledge        718           False  \n",
            "petfinder-adoption-prediction                  2019-03-28 23:59:00  Featured           $25,000       1302           False  \n",
            "vsb-power-line-fault-detection                 2019-03-21 23:59:00  Featured           $25,000       1046           False  \n",
            "microsoft-malware-prediction                   2019-03-13 23:59:00  Research           $25,000       1931           False  \n",
            "humpback-whale-identification                  2019-02-28 23:59:00  Featured           $25,000       2085           False  \n",
            "elo-merchant-category-recommendation           2019-02-26 23:59:00  Featured           $50,000       4163           False  \n",
            "ga-customer-revenue-prediction                 2019-02-21 20:04:00  Featured           $45,000       1100            True  \n"
          ],
          "name": "stdout"
        }
      ]
    },
    {
      "metadata": {
        "id": "8M3Yv6YoFr7e",
        "colab_type": "code",
        "colab": {}
      },
      "cell_type": "code",
      "source": [
        "!kaggle competitions download -c house-prices-advanced-regression-techniques"
      ],
      "execution_count": 0,
      "outputs": []
    },
    {
      "metadata": {
        "id": "8ZuPYcfdFsW-",
        "colab_type": "code",
        "outputId": "cbf1ed7e-f824-463c-b947-510553abf8ca",
        "colab": {
          "base_uri": "https://localhost:8080/",
          "height": 52
        }
      },
      "cell_type": "code",
      "source": [
        "ls"
      ],
      "execution_count": 0,
      "outputs": [
        {
          "output_type": "stream",
          "text": [
            "data_description.gdoc  sample_submission.csv  test.csv\n",
            "data_description.txt   submission.csv         train.csv\n"
          ],
          "name": "stdout"
        }
      ]
    },
    {
      "metadata": {
        "id": "8GYHlTgpFwIw",
        "colab_type": "text"
      },
      "cell_type": "markdown",
      "source": [
        "## 0-3 Using BigQuery api in colab"
      ]
    },
    {
      "metadata": {
        "id": "TBbuMYH6byja",
        "colab_type": "code",
        "colab": {}
      },
      "cell_type": "code",
      "source": [
        "from google.colab import auth\n",
        "from google.cloud import bigquery\n",
        "auth.authenticate_user()\n",
        "project_id = '####'\n",
        "client = bigquery.Client(project=project_id)"
      ],
      "execution_count": 0,
      "outputs": []
    },
    {
      "metadata": {
        "id": "3OYsA2WV-54q",
        "colab_type": "text"
      },
      "cell_type": "markdown",
      "source": [
        "# *1. Before starting the EDA*"
      ]
    },
    {
      "metadata": {
        "id": "N1IoCtKD-5_C",
        "colab_type": "text"
      },
      "cell_type": "markdown",
      "source": [
        "절차 어떻게 할까?   \n",
        "1. 거시적 변수 파악   \n",
        " * 결측이 얼마나 있을까?\n",
        " * 어떤변수로 구성되어있나?\n",
        " * y값의 skew 살펴보기\n",
        " * Correlation Matrix Heatmap\n",
        "\n",
        "2. 미시적 변수 파악   \n",
        " * Categorical features vs Numerical Features 나누기   \n",
        " * Multivariable Analysis \n",
        "\n",
        "3. Feature Tuning   \n",
        "*각항목에 적용할것*   \n",
        "(1) Impute missing data and clean data   \n",
        "(2) Feature Transformation/Engineering\n",
        " * Handling Numerical Features\n",
        " * Handling Categorical Features   \n",
        "\n"
      ]
    },
    {
      "metadata": {
        "id": "yIIU7UI4QCrV",
        "colab_type": "code",
        "colab": {}
      },
      "cell_type": "code",
      "source": [
        "import pandas as pd\n",
        "import numpy as np\n",
        "import seaborn as sns\n",
        "import scipy.stats as sp\n",
        "import matplotlib.pyplot as plt\n",
        "import operator\n",
        "%matplotlib inline"
      ],
      "execution_count": 0,
      "outputs": []
    },
    {
      "metadata": {
        "id": "oSuLhJ1UP6E_",
        "colab_type": "code",
        "colab": {}
      },
      "cell_type": "code",
      "source": [
        "train = pd.read_csv('train.csv')\n",
        "test = pd.read_csv('test.csv')"
      ],
      "execution_count": 0,
      "outputs": []
    },
    {
      "metadata": {
        "id": "JAN18r2UDThI",
        "colab_type": "text"
      },
      "cell_type": "markdown",
      "source": [
        "## 1-1 Control the Skewness of y(SalePrice)"
      ]
    },
    {
      "metadata": {
        "id": "CTfayhnuEvUA",
        "colab_type": "code",
        "colab": {}
      },
      "cell_type": "code",
      "source": [
        "from scipy.stats import norm\n",
        "from scipy import stats"
      ],
      "execution_count": 0,
      "outputs": []
    },
    {
      "metadata": {
        "id": "2RMFuCmGEhhQ",
        "colab_type": "code",
        "outputId": "759e75fa-9afb-4eb4-b75c-681a76636c03",
        "colab": {
          "base_uri": "https://localhost:8080/",
          "height": 174
        }
      },
      "cell_type": "code",
      "source": [
        "train['SalePrice'].describe()"
      ],
      "execution_count": 0,
      "outputs": [
        {
          "output_type": "execute_result",
          "data": {
            "text/plain": [
              "count      1460.000000\n",
              "mean     180921.195890\n",
              "std       79442.502883\n",
              "min       34900.000000\n",
              "25%      129975.000000\n",
              "50%      163000.000000\n",
              "75%      214000.000000\n",
              "max      755000.000000\n",
              "Name: SalePrice, dtype: float64"
            ]
          },
          "metadata": {
            "tags": []
          },
          "execution_count": 13
        }
      ]
    },
    {
      "metadata": {
        "id": "uNrOjHO1Ekyi",
        "colab_type": "code",
        "outputId": "9e08c588-14fb-40c1-ec9b-3bafee665c68",
        "colab": {
          "base_uri": "https://localhost:8080/",
          "height": 710
        }
      },
      "cell_type": "code",
      "source": [
        "sns.distplot(train['SalePrice'] , fit=norm);\n",
        "\n",
        "# Get the fitted parameters used by the function\n",
        "(mu, sigma) = norm.fit(train['SalePrice'])\n",
        "\n",
        "print( '\\n mu = {:.2f} and sigma = {:.2f}\\n'.format(mu, sigma))\n",
        "plt.legend(['Normal dist. ($\\mu=$ {:.2f} and $\\sigma=$ {:.2f} )'.format(mu, sigma)],\n",
        "            loc='best')\n",
        "plt.ylabel('Frequency')\n",
        "plt.title('SalePrice distribution')\n",
        "\n",
        "fig = plt.figure()\n",
        "res = stats.probplot(train['SalePrice'], plot=plt)\n",
        "plt.show()\n",
        "\n",
        "print(\"Skewness: %f\" % train['SalePrice'].skew())\n",
        "print(\"Kurtosis: %f\" % train['SalePrice'].kurt())"
      ],
      "execution_count": 0,
      "outputs": [
        {
          "output_type": "stream",
          "text": [
            "/usr/local/lib/python3.6/dist-packages/matplotlib/axes/_axes.py:6521: MatplotlibDeprecationWarning: \n",
            "The 'normed' kwarg was deprecated in Matplotlib 2.1 and will be removed in 3.1. Use 'density' instead.\n",
            "  alternative=\"'density'\", removal=\"3.1\")\n"
          ],
          "name": "stderr"
        },
        {
          "output_type": "stream",
          "text": [
            "\n",
            " mu = 180921.20 and sigma = 79415.29\n",
            "\n"
          ],
          "name": "stdout"
        },
        {
          "output_type": "display_data",
          "data": {
            "image/png": "[encoded data removed]",
            "text/plain": [
              "<Figure size 432x288 with 1 Axes>"
            ]
          },
          "metadata": {
            "tags": []
          }
        },
        {
          "output_type": "display_data",
          "data": {
            "image/png": "[encoded data removed]",
            "text/plain": [
              "<Figure size 432x288 with 1 Axes>"
            ]
          },
          "metadata": {
            "tags": []
          }
        },
        {
          "output_type": "stream",
          "text": [
            "Skewness: 1.882876\n",
            "Kurtosis: 6.536282\n"
          ],
          "name": "stdout"
        }
      ]
    },
    {
      "metadata": {
        "id": "RsqfGDssFA3j",
        "colab_type": "code",
        "outputId": "3fb080e4-067e-4cd3-a44b-864149986329",
        "colab": {
          "base_uri": "https://localhost:8080/",
          "height": 695
        }
      },
      "cell_type": "code",
      "source": [
        "#we use log function which is in numpy\n",
        "train['SalePrice'] = np.log1p(train['SalePrice'])\n",
        "\n",
        "#Check again for more normal distribution\n",
        "sns.distplot(train['SalePrice'], fit=stats.norm)\n",
        "\n",
        "# Get the fitted parameters used by the function\n",
        "(mu, sigma) = stats.norm.fit(train['SalePrice'])\n",
        "print( '\\n mu = {:.2f} and sigma = {:.2f}\\n'.format(mu, sigma))\n",
        "\n",
        "# plot with the distribution\n",
        "plt.legend(['Normal dist. ($\\mu=$ {:.2f} and $\\sigma=$ {:.2f} )'.format(mu, sigma)],\n",
        "           loc='best')\n",
        "plt.ylabel('Frequency')\n",
        "\n",
        "#Probablity plot\n",
        "fig = plt.figure()\n",
        "stats.probplot(train['SalePrice'], plot=plt)\n",
        "plt.show()\n",
        "\n",
        "print(\"Skewness: %f\" % train['SalePrice'].skew())\n",
        "print(\"Kurtosis: %f\" % train['SalePrice'].kurt())"
      ],
      "execution_count": 0,
      "outputs": [
        {
          "output_type": "stream",
          "text": [
            "\n",
            " mu = 12.02 and sigma = 0.40\n",
            "\n"
          ],
          "name": "stdout"
        },
        {
          "output_type": "stream",
          "text": [
            "/usr/local/lib/python3.6/dist-packages/matplotlib/axes/_axes.py:6521: MatplotlibDeprecationWarning: \n",
            "The 'normed' kwarg was deprecated in Matplotlib 2.1 and will be removed in 3.1. Use 'density' instead.\n",
            "  alternative=\"'density'\", removal=\"3.1\")\n"
          ],
          "name": "stderr"
        },
        {
          "output_type": "display_data",
          "data": {
            "image/png": "[encoded data removed]",
            "text/plain": [
              "<Figure size 432x288 with 1 Axes>"
            ]
          },
          "metadata": {
            "tags": []
          }
        },
        {
          "output_type": "display_data",
          "data": {
            "image/png": "[encoded data removed]",
            "text/plain": [
              "<Figure size 432x288 with 1 Axes>"
            ]
          },
          "metadata": {
            "tags": []
          }
        },
        {
          "output_type": "stream",
          "text": [
            "Skewness: 0.121347\n",
            "Kurtosis: 0.809519\n"
          ],
          "name": "stdout"
        }
      ]
    },
    {
      "metadata": {
        "id": "ydnF4nG2ILfv",
        "colab_type": "text"
      },
      "cell_type": "markdown",
      "source": [
        "# *2. Correlation analysis *\n"
      ]
    },
    {
      "metadata": {
        "id": "J9JoKJgB_Opt",
        "colab_type": "code",
        "outputId": "c2702060-4c1c-4b6f-ef29-6f89c384ce79",
        "colab": {
          "base_uri": "https://localhost:8080/",
          "height": 664
        }
      },
      "cell_type": "code",
      "source": [
        "corr = train.iloc[:,1:].corr()\n",
        "corr_list = corr['SalePrice'].sort_values(axis=0,ascending=False).iloc[1:]\n",
        "corr_list"
      ],
      "execution_count": 0,
      "outputs": [
        {
          "output_type": "execute_result",
          "data": {
            "text/plain": [
              "OverallQual      0.817185\n",
              "GrLivArea        0.700927\n",
              "GarageCars       0.680625\n",
              "GarageArea       0.650888\n",
              "TotalBsmtSF      0.612134\n",
              "1stFlrSF         0.596981\n",
              "FullBath         0.594771\n",
              "YearBuilt        0.586570\n",
              "YearRemodAdd     0.565608\n",
              "GarageYrBlt      0.541073\n",
              "TotRmsAbvGrd     0.534422\n",
              "Fireplaces       0.489450\n",
              "MasVnrArea       0.430809\n",
              "BsmtFinSF1       0.372023\n",
              "LotFrontage      0.355879\n",
              "WoodDeckSF       0.334135\n",
              "OpenPorchSF      0.321053\n",
              "2ndFlrSF         0.319300\n",
              "HalfBath         0.313982\n",
              "LotArea          0.257320\n",
              "BsmtFullBath     0.236224\n",
              "BsmtUnfSF        0.221985\n",
              "BedroomAbvGr     0.209043\n",
              "ScreenPorch      0.121208\n",
              "PoolArea         0.069798\n",
              "MoSold           0.057330\n",
              "3SsnPorch        0.054900\n",
              "BsmtFinSF2       0.004832\n",
              "BsmtHalfBath    -0.005149\n",
              "MiscVal         -0.020021\n",
              "OverallCond     -0.036868\n",
              "YrSold          -0.037263\n",
              "LowQualFinSF    -0.037963\n",
              "MSSubClass      -0.073959\n",
              "KitchenAbvGr    -0.147548\n",
              "EnclosedPorch   -0.149050\n",
              "Name: SalePrice, dtype: float64"
            ]
          },
          "metadata": {
            "tags": []
          },
          "execution_count": 16
        }
      ]
    },
    {
      "metadata": {
        "colab_type": "text",
        "id": "L3UppSpTFIJH"
      },
      "cell_type": "markdown",
      "source": [
        "\n",
        "\n",
        "---\n",
        "\n",
        "**유의성 기준**   \n",
        "![유의성기준](https://t1.daumcdn.net/cfile/tistory/994D8B4E5AEA853706)   \n",
        "단, 0.95가 넘을 경우는 제거\n",
        "\n",
        "---\n",
        "\n"
      ]
    },
    {
      "metadata": {
        "id": "r4tLB-qcvrey",
        "colab_type": "code",
        "colab": {}
      },
      "cell_type": "code",
      "source": [
        ""
      ],
      "execution_count": 0,
      "outputs": []
    },
    {
      "metadata": {
        "id": "l51JJN_hAGbU",
        "colab_type": "code",
        "colab": {}
      },
      "cell_type": "code",
      "source": [
        "corr_list = pd.DataFrame(corr_list)"
      ],
      "execution_count": 0,
      "outputs": []
    },
    {
      "metadata": {
        "id": "4zBz0emcALuk",
        "colab_type": "code",
        "colab": {}
      },
      "cell_type": "code",
      "source": [
        "corr_list.reset_index(level=0, inplace=True)"
      ],
      "execution_count": 0,
      "outputs": []
    },
    {
      "metadata": {
        "id": "z9Q_nJNoBeeC",
        "colab_type": "code",
        "outputId": "30bdce53-ef00-475a-e538-4ffe3816f48f",
        "colab": {
          "base_uri": "https://localhost:8080/",
          "height": 437
        }
      },
      "cell_type": "code",
      "source": [
        "corr_list[corr_list['SalePrice'] > 0.4]"
      ],
      "execution_count": 0,
      "outputs": [
        {
          "output_type": "execute_result",
          "data": {
            "text/html": [
              "<div>\n",
              "<style scoped>\n",
              "    .dataframe tbody tr th:only-of-type {\n",
              "        vertical-align: middle;\n",
              "    }\n",
              "\n",
              "    .dataframe tbody tr th {\n",
              "        vertical-align: top;\n",
              "    }\n",
              "\n",
              "    .dataframe thead th {\n",
              "        text-align: right;\n",
              "    }\n",
              "</style>\n",
              "<table border=\"1\" class=\"dataframe\">\n",
              "  <thead>\n",
              "    <tr style=\"text-align: right;\">\n",
              "      <th></th>\n",
              "      <th>index</th>\n",
              "      <th>SalePrice</th>\n",
              "    </tr>\n",
              "  </thead>\n",
              "  <tbody>\n",
              "    <tr>\n",
              "      <th>0</th>\n",
              "      <td>OverallQual</td>\n",
              "      <td>0.817185</td>\n",
              "    </tr>\n",
              "    <tr>\n",
              "      <th>1</th>\n",
              "      <td>GrLivArea</td>\n",
              "      <td>0.700927</td>\n",
              "    </tr>\n",
              "    <tr>\n",
              "      <th>2</th>\n",
              "      <td>GarageCars</td>\n",
              "      <td>0.680625</td>\n",
              "    </tr>\n",
              "    <tr>\n",
              "      <th>3</th>\n",
              "      <td>GarageArea</td>\n",
              "      <td>0.650888</td>\n",
              "    </tr>\n",
              "    <tr>\n",
              "      <th>4</th>\n",
              "      <td>TotalBsmtSF</td>\n",
              "      <td>0.612134</td>\n",
              "    </tr>\n",
              "    <tr>\n",
              "      <th>5</th>\n",
              "      <td>1stFlrSF</td>\n",
              "      <td>0.596981</td>\n",
              "    </tr>\n",
              "    <tr>\n",
              "      <th>6</th>\n",
              "      <td>FullBath</td>\n",
              "      <td>0.594771</td>\n",
              "    </tr>\n",
              "    <tr>\n",
              "      <th>7</th>\n",
              "      <td>YearBuilt</td>\n",
              "      <td>0.586570</td>\n",
              "    </tr>\n",
              "    <tr>\n",
              "      <th>8</th>\n",
              "      <td>YearRemodAdd</td>\n",
              "      <td>0.565608</td>\n",
              "    </tr>\n",
              "    <tr>\n",
              "      <th>9</th>\n",
              "      <td>GarageYrBlt</td>\n",
              "      <td>0.541073</td>\n",
              "    </tr>\n",
              "    <tr>\n",
              "      <th>10</th>\n",
              "      <td>TotRmsAbvGrd</td>\n",
              "      <td>0.534422</td>\n",
              "    </tr>\n",
              "    <tr>\n",
              "      <th>11</th>\n",
              "      <td>Fireplaces</td>\n",
              "      <td>0.489450</td>\n",
              "    </tr>\n",
              "    <tr>\n",
              "      <th>12</th>\n",
              "      <td>MasVnrArea</td>\n",
              "      <td>0.430809</td>\n",
              "    </tr>\n",
              "  </tbody>\n",
              "</table>\n",
              "</div>"
            ],
            "text/plain": [
              "           index  SalePrice\n",
              "0    OverallQual   0.817185\n",
              "1      GrLivArea   0.700927\n",
              "2     GarageCars   0.680625\n",
              "3     GarageArea   0.650888\n",
              "4    TotalBsmtSF   0.612134\n",
              "5       1stFlrSF   0.596981\n",
              "6       FullBath   0.594771\n",
              "7      YearBuilt   0.586570\n",
              "8   YearRemodAdd   0.565608\n",
              "9    GarageYrBlt   0.541073\n",
              "10  TotRmsAbvGrd   0.534422\n",
              "11    Fireplaces   0.489450\n",
              "12    MasVnrArea   0.430809"
            ]
          },
          "metadata": {
            "tags": []
          },
          "execution_count": 19
        }
      ]
    },
    {
      "metadata": {
        "id": "rXg5xdTiFIll",
        "colab_type": "text"
      },
      "cell_type": "markdown",
      "source": [
        "유의성 0.4까지만 보자"
      ]
    },
    {
      "metadata": {
        "id": "1VTl28BbUJoK",
        "colab_type": "text"
      },
      "cell_type": "markdown",
      "source": [
        "## (1) OverallQual\n",
        "Rates the overall material and finish of the house (1 = Very Poor, 10 = Very Excellent)"
      ]
    },
    {
      "metadata": {
        "id": "jg5Ws68I_LDO",
        "colab_type": "code",
        "outputId": "ac60df1e-bd9a-42f8-e1ad-a1f00e133a98",
        "colab": {
          "base_uri": "https://localhost:8080/",
          "height": 174
        }
      },
      "cell_type": "code",
      "source": [
        "train['OverallQual'].describe()"
      ],
      "execution_count": 0,
      "outputs": [
        {
          "output_type": "execute_result",
          "data": {
            "text/plain": [
              "count    1460.000000\n",
              "mean        6.099315\n",
              "std         1.382997\n",
              "min         1.000000\n",
              "25%         5.000000\n",
              "50%         6.000000\n",
              "75%         7.000000\n",
              "max        10.000000\n",
              "Name: OverallQual, dtype: float64"
            ]
          },
          "metadata": {
            "tags": []
          },
          "execution_count": 20
        }
      ]
    },
    {
      "metadata": {
        "id": "xy3m1uCI9-np",
        "colab_type": "code",
        "outputId": "50ffe404-d77b-4896-d285-979336893635",
        "colab": {
          "base_uri": "https://localhost:8080/",
          "height": 34
        }
      },
      "cell_type": "code",
      "source": [
        "train['OverallQual'].unique()"
      ],
      "execution_count": 0,
      "outputs": [
        {
          "output_type": "execute_result",
          "data": {
            "text/plain": [
              "array([ 7,  6,  8,  5,  9,  4, 10,  3,  1,  2])"
            ]
          },
          "metadata": {
            "tags": []
          },
          "execution_count": 21
        }
      ]
    },
    {
      "metadata": {
        "id": "GNCoBIZvTuHG",
        "colab_type": "code",
        "outputId": "2a10c0a8-792d-4fb4-e245-af71d75dda6d",
        "colab": {
          "base_uri": "https://localhost:8080/",
          "height": 422
        }
      },
      "cell_type": "code",
      "source": [
        "# Overall Quality vs Sale Price\n",
        "var = 'OverallQual'\n",
        "data = pd.concat([train['SalePrice'], train[var]], axis=1)\n",
        "f, ax = plt.subplots(figsize=(8, 6))\n",
        "fig = sns.boxplot(x=var, y=\"SalePrice\", data=data)\n"
      ],
      "execution_count": 0,
      "outputs": [
        {
          "output_type": "stream",
          "text": [
            "/usr/local/lib/python3.6/dist-packages/seaborn/categorical.py:454: FutureWarning: remove_na is deprecated and is a private function. Do not use.\n",
            "  box_data = remove_na(group_data)\n"
          ],
          "name": "stderr"
        },
        {
          "output_type": "display_data",
          "data": {
            "image/png": "[encoded data removed]",
            "text/plain": [
              "<Figure size 576x432 with 1 Axes>"
            ]
          },
          "metadata": {
            "tags": []
          }
        }
      ]
    },
    {
      "metadata": {
        "id": "E16fTHWV_ThN",
        "colab_type": "text"
      },
      "cell_type": "markdown",
      "source": [
        "## (2) GrLivArea \n",
        "Above grade (ground) living area square feet"
      ]
    },
    {
      "metadata": {
        "id": "h_ZE-Sxd_mvi",
        "colab_type": "code",
        "outputId": "e2adf3bd-d472-42a2-dc72-5ec40fcc86e9",
        "colab": {
          "base_uri": "https://localhost:8080/",
          "height": 174
        }
      },
      "cell_type": "code",
      "source": [
        "train['GrLivArea'].describe()"
      ],
      "execution_count": 0,
      "outputs": [
        {
          "output_type": "execute_result",
          "data": {
            "text/plain": [
              "count    1460.000000\n",
              "mean     1515.463699\n",
              "std       525.480383\n",
              "min       334.000000\n",
              "25%      1129.500000\n",
              "50%      1464.000000\n",
              "75%      1776.750000\n",
              "max      5642.000000\n",
              "Name: GrLivArea, dtype: float64"
            ]
          },
          "metadata": {
            "tags": []
          },
          "execution_count": 23
        }
      ]
    },
    {
      "metadata": {
        "id": "DRBeFAC9Kkjg",
        "colab_type": "code",
        "outputId": "eb19a622-8c42-4b89-f28b-04864834db30",
        "colab": {
          "base_uri": "https://localhost:8080/",
          "height": 511
        }
      },
      "cell_type": "code",
      "source": [
        "# Living Area vs Sale Price\n",
        "sns.jointplot(x=train['GrLivArea'], y=train['SalePrice'], kind='reg')"
      ],
      "execution_count": 0,
      "outputs": [
        {
          "output_type": "stream",
          "text": [
            "/usr/local/lib/python3.6/dist-packages/matplotlib/axes/_axes.py:6521: MatplotlibDeprecationWarning: \n",
            "The 'normed' kwarg was deprecated in Matplotlib 2.1 and will be removed in 3.1. Use 'density' instead.\n",
            "  alternative=\"'density'\", removal=\"3.1\")\n"
          ],
          "name": "stderr"
        },
        {
          "output_type": "execute_result",
          "data": {
            "text/plain": [
              "<seaborn.axisgrid.JointGrid at 0x7fb998bc1c50>"
            ]
          },
          "metadata": {
            "tags": []
          },
          "execution_count": 24
        },
        {
          "output_type": "display_data",
          "data": {
            "image/png": "[encoded data removed]",
            "text/plain": [
              "<Figure size 432x432 with 3 Axes>"
            ]
          },
          "metadata": {
            "tags": []
          }
        }
      ]
    },
    {
      "metadata": {
        "id": "mc4sdiTxLvmA",
        "colab_type": "text"
      },
      "cell_type": "markdown",
      "source": [
        "오른쪽 아래에 있는 2개의 점을 이상치로 볼 수 있다.\n",
        "이 이상치에 대한 것을 처리해야한다.\n"
      ]
    },
    {
      "metadata": {
        "id": "EG2yfkUFMCd2",
        "colab_type": "code",
        "colab": {}
      },
      "cell_type": "code",
      "source": [
        "train = train.drop(train[(train['GrLivArea']>4000) \n",
        "                         & (train['SalePrice']<12.5)].index).reset_index(drop=True)"
      ],
      "execution_count": 0,
      "outputs": []
    },
    {
      "metadata": {
        "id": "NOu0H1gxMwpu",
        "colab_type": "code",
        "outputId": "38de4542-23af-47a7-eb31-d55df06b1030",
        "colab": {
          "base_uri": "https://localhost:8080/",
          "height": 511
        }
      },
      "cell_type": "code",
      "source": [
        "sns.jointplot(x=train['GrLivArea'], y=train['SalePrice'], kind='reg')\n"
      ],
      "execution_count": 0,
      "outputs": [
        {
          "output_type": "stream",
          "text": [
            "/usr/local/lib/python3.6/dist-packages/matplotlib/axes/_axes.py:6521: MatplotlibDeprecationWarning: \n",
            "The 'normed' kwarg was deprecated in Matplotlib 2.1 and will be removed in 3.1. Use 'density' instead.\n",
            "  alternative=\"'density'\", removal=\"3.1\")\n"
          ],
          "name": "stderr"
        },
        {
          "output_type": "execute_result",
          "data": {
            "text/plain": [
              "<seaborn.axisgrid.JointGrid at 0x7fb99af2d198>"
            ]
          },
          "metadata": {
            "tags": []
          },
          "execution_count": 26
        },
        {
          "output_type": "display_data",
          "data": {
            "image/png": "[encoded data removed]",
            "text/plain": [
              "<Figure size 432x432 with 3 Axes>"
            ]
          },
          "metadata": {
            "tags": []
          }
        }
      ]
    },
    {
      "metadata": {
        "id": "1_zLq_vN9hWJ",
        "colab_type": "text"
      },
      "cell_type": "markdown",
      "source": [
        "## (3) GarageCars\n",
        "Size of garage in car capacity"
      ]
    },
    {
      "metadata": {
        "id": "884ZoOUE9mM9",
        "colab_type": "code",
        "outputId": "8e74e231-bc75-47c1-ffb8-0b3cdd7b3e71",
        "colab": {
          "base_uri": "https://localhost:8080/",
          "height": 174
        }
      },
      "cell_type": "code",
      "source": [
        "train['GarageCars'].describe()"
      ],
      "execution_count": 0,
      "outputs": [
        {
          "output_type": "execute_result",
          "data": {
            "text/plain": [
              "count    1458.000000\n",
              "mean        1.766118\n",
              "std         0.747104\n",
              "min         0.000000\n",
              "25%         1.000000\n",
              "50%         2.000000\n",
              "75%         2.000000\n",
              "max         4.000000\n",
              "Name: GarageCars, dtype: float64"
            ]
          },
          "metadata": {
            "tags": []
          },
          "execution_count": 27
        }
      ]
    },
    {
      "metadata": {
        "id": "4FkJDk7N9xJ9",
        "colab_type": "code",
        "outputId": "a1206bb3-2589-4f05-9623-d3b0c9b10284",
        "colab": {
          "base_uri": "https://localhost:8080/",
          "height": 34
        }
      },
      "cell_type": "code",
      "source": [
        "train['GarageCars'].unique()"
      ],
      "execution_count": 0,
      "outputs": [
        {
          "output_type": "execute_result",
          "data": {
            "text/plain": [
              "array([2, 3, 1, 0, 4])"
            ]
          },
          "metadata": {
            "tags": []
          },
          "execution_count": 28
        }
      ]
    },
    {
      "metadata": {
        "id": "v6w6ohuD94oc",
        "colab_type": "code",
        "outputId": "468bbcc5-7d20-45e4-a52a-56f3d6411f74",
        "colab": {
          "base_uri": "https://localhost:8080/",
          "height": 422
        }
      },
      "cell_type": "code",
      "source": [
        "# Overall Quality vs Sale Price\n",
        "var = 'GarageCars'\n",
        "data = pd.concat([train['SalePrice'], train[var]], axis=1)\n",
        "f, ax = plt.subplots(figsize=(8, 6))\n",
        "fig = sns.boxplot(x=var, y=\"SalePrice\", data=data)\n"
      ],
      "execution_count": 0,
      "outputs": [
        {
          "output_type": "stream",
          "text": [
            "/usr/local/lib/python3.6/dist-packages/seaborn/categorical.py:454: FutureWarning: remove_na is deprecated and is a private function. Do not use.\n",
            "  box_data = remove_na(group_data)\n"
          ],
          "name": "stderr"
        },
        {
          "output_type": "display_data",
          "data": {
            "image/png": "[encoded data removed]",
            "text/plain": [
              "<Figure size 576x432 with 1 Axes>"
            ]
          },
          "metadata": {
            "tags": []
          }
        }
      ]
    },
    {
      "metadata": {
        "id": "sKE6sxA-98x5",
        "colab_type": "text"
      },
      "cell_type": "markdown",
      "source": [
        "## (4) GarageArea\n",
        "Size of garage in square feet\n",
        "\n",
        "\n"
      ]
    },
    {
      "metadata": {
        "id": "bq67a-qPKHXa",
        "colab_type": "code",
        "outputId": "c0cf202e-a535-4c0a-b493-13264a80e0aa",
        "colab": {
          "base_uri": "https://localhost:8080/",
          "height": 174
        }
      },
      "cell_type": "code",
      "source": [
        "train['GarageArea'].describe()"
      ],
      "execution_count": 0,
      "outputs": [
        {
          "output_type": "execute_result",
          "data": {
            "text/plain": [
              "count    1458.000000\n",
              "mean      472.050069\n",
              "std       212.239248\n",
              "min         0.000000\n",
              "25%       331.500000\n",
              "50%       479.500000\n",
              "75%       576.000000\n",
              "max      1390.000000\n",
              "Name: GarageArea, dtype: float64"
            ]
          },
          "metadata": {
            "tags": []
          },
          "execution_count": 30
        }
      ]
    },
    {
      "metadata": {
        "colab_type": "code",
        "id": "fp2SbldVKb2C",
        "outputId": "300ecdaf-aeb2-446e-d2c3-9110a720f1ba",
        "colab": {
          "base_uri": "https://localhost:8080/",
          "height": 511
        }
      },
      "cell_type": "code",
      "source": [
        "# GarageArea vs Sale Price\n",
        "sns.jointplot(x=train['GarageArea'], y=train['SalePrice'], kind='reg')"
      ],
      "execution_count": 0,
      "outputs": [
        {
          "output_type": "stream",
          "text": [
            "/usr/local/lib/python3.6/dist-packages/matplotlib/axes/_axes.py:6521: MatplotlibDeprecationWarning: \n",
            "The 'normed' kwarg was deprecated in Matplotlib 2.1 and will be removed in 3.1. Use 'density' instead.\n",
            "  alternative=\"'density'\", removal=\"3.1\")\n"
          ],
          "name": "stderr"
        },
        {
          "output_type": "execute_result",
          "data": {
            "text/plain": [
              "<seaborn.axisgrid.JointGrid at 0x7fb99873a6d8>"
            ]
          },
          "metadata": {
            "tags": []
          },
          "execution_count": 31
        },
        {
          "output_type": "display_data",
          "data": {
            "image/png": "[encoded data removed]",
            "text/plain": [
              "<Figure size 432x432 with 3 Axes>"
            ]
          },
          "metadata": {
            "tags": []
          }
        }
      ]
    },
    {
      "metadata": {
        "colab_type": "text",
        "id": "Bu6Hqj11Kb2J"
      },
      "cell_type": "markdown",
      "source": [
        "오른쪽 아래에 있는 3개의 점을 이상치로 볼 수 있다.\n",
        "이 이상치에 대한 것을 처리해야한다.\n"
      ]
    },
    {
      "metadata": {
        "colab_type": "code",
        "id": "hgGlEuI1Kb2K",
        "colab": {}
      },
      "cell_type": "code",
      "source": [
        "train = train.drop(train[(train['GarageArea']>1200) \n",
        "                         & (train['SalePrice']<12.5)].index).reset_index(drop=True)"
      ],
      "execution_count": 0,
      "outputs": []
    },
    {
      "metadata": {
        "colab_type": "code",
        "id": "60MZetWfKb2N",
        "outputId": "d4137be1-f29d-4b96-c46b-29ac7b241d59",
        "colab": {
          "base_uri": "https://localhost:8080/",
          "height": 511
        }
      },
      "cell_type": "code",
      "source": [
        "sns.jointplot(x=train['GarageArea'], y=train['SalePrice'], kind='reg')\n"
      ],
      "execution_count": 0,
      "outputs": [
        {
          "output_type": "stream",
          "text": [
            "/usr/local/lib/python3.6/dist-packages/matplotlib/axes/_axes.py:6521: MatplotlibDeprecationWarning: \n",
            "The 'normed' kwarg was deprecated in Matplotlib 2.1 and will be removed in 3.1. Use 'density' instead.\n",
            "  alternative=\"'density'\", removal=\"3.1\")\n"
          ],
          "name": "stderr"
        },
        {
          "output_type": "execute_result",
          "data": {
            "text/plain": [
              "<seaborn.axisgrid.JointGrid at 0x7fb99aec2c50>"
            ]
          },
          "metadata": {
            "tags": []
          },
          "execution_count": 33
        },
        {
          "output_type": "display_data",
          "data": {
            "image/png": "[encoded data removed]",
            "text/plain": [
              "<Figure size 432x432 with 3 Axes>"
            ]
          },
          "metadata": {
            "tags": []
          }
        }
      ]
    },
    {
      "metadata": {
        "id": "Ajyp0F2YKvlS",
        "colab_type": "text"
      },
      "cell_type": "markdown",
      "source": [
        "## (5) TotalBsmtSF \n",
        "Total square feet of basement area"
      ]
    },
    {
      "metadata": {
        "id": "RE5KomJQKvYb",
        "colab_type": "code",
        "outputId": "95a19276-0892-4de3-bb56-fba8f3b4609c",
        "colab": {
          "base_uri": "https://localhost:8080/",
          "height": 174
        }
      },
      "cell_type": "code",
      "source": [
        "train['TotalBsmtSF'].describe()"
      ],
      "execution_count": 0,
      "outputs": [
        {
          "output_type": "execute_result",
          "data": {
            "text/plain": [
              "count    1455.000000\n",
              "mean     1051.830928\n",
              "std       414.545500\n",
              "min         0.000000\n",
              "25%       795.000000\n",
              "50%       991.000000\n",
              "75%      1296.500000\n",
              "max      3206.000000\n",
              "Name: TotalBsmtSF, dtype: float64"
            ]
          },
          "metadata": {
            "tags": []
          },
          "execution_count": 34
        }
      ]
    },
    {
      "metadata": {
        "colab_type": "code",
        "id": "8dCxg0VmK8Li",
        "outputId": "42015d82-50fc-44b1-eaaa-bf5399cb4884",
        "colab": {
          "base_uri": "https://localhost:8080/",
          "height": 511
        }
      },
      "cell_type": "code",
      "source": [
        "# TotalBsmtSF vs Sale Price\n",
        "sns.jointplot(x=train['TotalBsmtSF'], y=train['SalePrice'], kind='reg')"
      ],
      "execution_count": 0,
      "outputs": [
        {
          "output_type": "stream",
          "text": [
            "/usr/local/lib/python3.6/dist-packages/matplotlib/axes/_axes.py:6521: MatplotlibDeprecationWarning: \n",
            "The 'normed' kwarg was deprecated in Matplotlib 2.1 and will be removed in 3.1. Use 'density' instead.\n",
            "  alternative=\"'density'\", removal=\"3.1\")\n"
          ],
          "name": "stderr"
        },
        {
          "output_type": "execute_result",
          "data": {
            "text/plain": [
              "<seaborn.axisgrid.JointGrid at 0x7fb9983ba940>"
            ]
          },
          "metadata": {
            "tags": []
          },
          "execution_count": 35
        },
        {
          "output_type": "display_data",
          "data": {
            "image/png": "[encoded data removed]",
            "text/plain": [
              "<Figure size 432x432 with 3 Axes>"
            ]
          },
          "metadata": {
            "tags": []
          }
        }
      ]
    },
    {
      "metadata": {
        "id": "iOt7r9N5L6Uw",
        "colab_type": "text"
      },
      "cell_type": "markdown",
      "source": [
        "## (6) 1stFlrSF \n",
        " First Floor square feet   "
      ]
    },
    {
      "metadata": {
        "id": "lc3p-EW_L-3z",
        "colab_type": "code",
        "outputId": "436ed68f-7f8a-42a7-e8da-d067bb736bf2",
        "colab": {
          "base_uri": "https://localhost:8080/",
          "height": 174
        }
      },
      "cell_type": "code",
      "source": [
        "train['1stFlrSF'].describe()"
      ],
      "execution_count": 0,
      "outputs": [
        {
          "output_type": "execute_result",
          "data": {
            "text/plain": [
              "count    1455.000000\n",
              "mean     1158.107904\n",
              "std       371.438056\n",
              "min       334.000000\n",
              "25%       882.000000\n",
              "50%      1086.000000\n",
              "75%      1389.500000\n",
              "max      3228.000000\n",
              "Name: 1stFlrSF, dtype: float64"
            ]
          },
          "metadata": {
            "tags": []
          },
          "execution_count": 36
        }
      ]
    },
    {
      "metadata": {
        "colab_type": "code",
        "id": "KaY1xGOlMhsT",
        "outputId": "3b7be09d-ff60-4394-f2dd-a948abd5278b",
        "colab": {
          "base_uri": "https://localhost:8080/",
          "height": 511
        }
      },
      "cell_type": "code",
      "source": [
        "# 1stFlrSF vs Sale Price\n",
        "sns.jointplot(x=train['1stFlrSF'], y=train['SalePrice'], kind='reg')"
      ],
      "execution_count": 0,
      "outputs": [
        {
          "output_type": "stream",
          "text": [
            "/usr/local/lib/python3.6/dist-packages/matplotlib/axes/_axes.py:6521: MatplotlibDeprecationWarning: \n",
            "The 'normed' kwarg was deprecated in Matplotlib 2.1 and will be removed in 3.1. Use 'density' instead.\n",
            "  alternative=\"'density'\", removal=\"3.1\")\n"
          ],
          "name": "stderr"
        },
        {
          "output_type": "execute_result",
          "data": {
            "text/plain": [
              "<seaborn.axisgrid.JointGrid at 0x7fb99ad68dd8>"
            ]
          },
          "metadata": {
            "tags": []
          },
          "execution_count": 37
        },
        {
          "output_type": "display_data",
          "data": {
            "image/png": "[encoded data removed]",
            "text/plain": [
              "<Figure size 432x432 with 3 Axes>"
            ]
          },
          "metadata": {
            "tags": []
          }
        }
      ]
    },
    {
      "metadata": {
        "id": "0Sem9DmRMj9V",
        "colab_type": "text"
      },
      "cell_type": "markdown",
      "source": [
        "## (7) FullBath\n",
        "Full bathrooms above grade   "
      ]
    },
    {
      "metadata": {
        "id": "evdiPlduMppE",
        "colab_type": "code",
        "outputId": "cf6ad18c-4525-404c-8e1a-51e87dd96bf6",
        "colab": {
          "base_uri": "https://localhost:8080/",
          "height": 174
        }
      },
      "cell_type": "code",
      "source": [
        "train['FullBath'].describe()"
      ],
      "execution_count": 0,
      "outputs": [
        {
          "output_type": "execute_result",
          "data": {
            "text/plain": [
              "count    1455.000000\n",
              "mean        1.564261\n",
              "std         0.549942\n",
              "min         0.000000\n",
              "25%         1.000000\n",
              "50%         2.000000\n",
              "75%         2.000000\n",
              "max         3.000000\n",
              "Name: FullBath, dtype: float64"
            ]
          },
          "metadata": {
            "tags": []
          },
          "execution_count": 38
        }
      ]
    },
    {
      "metadata": {
        "id": "xbcsO_VUMu1u",
        "colab_type": "code",
        "outputId": "492a81cf-d924-48c6-9767-7d6a1c46d73c",
        "colab": {
          "base_uri": "https://localhost:8080/",
          "height": 34
        }
      },
      "cell_type": "code",
      "source": [
        "train['FullBath'].unique()"
      ],
      "execution_count": 0,
      "outputs": [
        {
          "output_type": "execute_result",
          "data": {
            "text/plain": [
              "array([2, 1, 3, 0])"
            ]
          },
          "metadata": {
            "tags": []
          },
          "execution_count": 39
        }
      ]
    },
    {
      "metadata": {
        "id": "lpBQnMNdMzc0",
        "colab_type": "code",
        "outputId": "49b1cc66-14c4-4516-ac12-119ce11fce59",
        "colab": {
          "base_uri": "https://localhost:8080/",
          "height": 422
        }
      },
      "cell_type": "code",
      "source": [
        "# FullBath vs Sale Price\n",
        "var = 'FullBath'\n",
        "data = pd.concat([train['SalePrice'], train[var]], axis=1)\n",
        "f, ax = plt.subplots(figsize=(8, 6))\n",
        "fig = sns.boxplot(x=var, y=\"SalePrice\", data=data)\n"
      ],
      "execution_count": 0,
      "outputs": [
        {
          "output_type": "stream",
          "text": [
            "/usr/local/lib/python3.6/dist-packages/seaborn/categorical.py:454: FutureWarning: remove_na is deprecated and is a private function. Do not use.\n",
            "  box_data = remove_na(group_data)\n"
          ],
          "name": "stderr"
        },
        {
          "output_type": "display_data",
          "data": {
            "image/png": "[encoded data removed]",
            "text/plain": [
              "<Figure size 576x432 with 1 Axes>"
            ]
          },
          "metadata": {
            "tags": []
          }
        }
      ]
    },
    {
      "metadata": {
        "id": "NMlV86jRM6Cj",
        "colab_type": "text"
      },
      "cell_type": "markdown",
      "source": [
        "## (8) TotRmsAbvGrd \n",
        "Total rooms above grade (does not include bathrooms)   "
      ]
    },
    {
      "metadata": {
        "id": "CLWsZf3HM9ih",
        "colab_type": "code",
        "outputId": "94a2f7f3-75b0-4bf9-dd94-bde0f50a594a",
        "colab": {
          "base_uri": "https://localhost:8080/",
          "height": 174
        }
      },
      "cell_type": "code",
      "source": [
        "train['TotRmsAbvGrd'].describe()"
      ],
      "execution_count": 0,
      "outputs": [
        {
          "output_type": "execute_result",
          "data": {
            "text/plain": [
              "count    1455.000000\n",
              "mean        6.509966\n",
              "std         1.616968\n",
              "min         2.000000\n",
              "25%         5.000000\n",
              "50%         6.000000\n",
              "75%         7.000000\n",
              "max        14.000000\n",
              "Name: TotRmsAbvGrd, dtype: float64"
            ]
          },
          "metadata": {
            "tags": []
          },
          "execution_count": 41
        }
      ]
    },
    {
      "metadata": {
        "colab_type": "code",
        "id": "zJX1-8HaNPvR",
        "outputId": "a37da6b8-a015-43ec-cf0b-d92b147c1218",
        "colab": {
          "base_uri": "https://localhost:8080/",
          "height": 422
        }
      },
      "cell_type": "code",
      "source": [
        "# TotRmsAbvGrd vs Sale Price\n",
        "var = 'TotRmsAbvGrd'\n",
        "data = pd.concat([train['SalePrice'], train[var]], axis=1)\n",
        "f, ax = plt.subplots(figsize=(8, 6))\n",
        "fig = sns.boxplot(x=var, y=\"SalePrice\", data=data)"
      ],
      "execution_count": 0,
      "outputs": [
        {
          "output_type": "stream",
          "text": [
            "/usr/local/lib/python3.6/dist-packages/seaborn/categorical.py:454: FutureWarning: remove_na is deprecated and is a private function. Do not use.\n",
            "  box_data = remove_na(group_data)\n"
          ],
          "name": "stderr"
        },
        {
          "output_type": "display_data",
          "data": {
            "image/png": "[encoded data removed]",
            "text/plain": [
              "<Figure size 576x432 with 1 Axes>"
            ]
          },
          "metadata": {
            "tags": []
          }
        }
      ]
    },
    {
      "metadata": {
        "id": "1Am41qysNtid",
        "colab_type": "text"
      },
      "cell_type": "markdown",
      "source": [
        "## (9) YearBuilt \n",
        "Original construction date   "
      ]
    },
    {
      "metadata": {
        "id": "g7pZk1XQN37Y",
        "colab_type": "code",
        "outputId": "3519bc0b-4180-4192-9325-7fae7fe18a2d",
        "colab": {
          "base_uri": "https://localhost:8080/",
          "height": 174
        }
      },
      "cell_type": "code",
      "source": [
        "train['YearBuilt'].describe()"
      ],
      "execution_count": 0,
      "outputs": [
        {
          "output_type": "execute_result",
          "data": {
            "text/plain": [
              "count    1455.000000\n",
              "mean     1971.224742\n",
              "std        30.193365\n",
              "min      1872.000000\n",
              "25%      1954.000000\n",
              "50%      1973.000000\n",
              "75%      2000.000000\n",
              "max      2010.000000\n",
              "Name: YearBuilt, dtype: float64"
            ]
          },
          "metadata": {
            "tags": []
          },
          "execution_count": 43
        }
      ]
    },
    {
      "metadata": {
        "id": "7M0DRvkvN8C-",
        "colab_type": "code",
        "outputId": "f2a88696-1615-4ec8-e66e-7d8ac7e70d3a",
        "colab": {
          "base_uri": "https://localhost:8080/",
          "height": 532
        }
      },
      "cell_type": "code",
      "source": [
        "var = 'YearBuilt'\n",
        "data = pd.concat([train['SalePrice'], train[var]], axis=1)\n",
        "f, ax = plt.subplots(figsize=(16, 8))\n",
        "fig = sns.boxplot(x=var, y=\"SalePrice\", data=data)"
      ],
      "execution_count": 0,
      "outputs": [
        {
          "output_type": "stream",
          "text": [
            "/usr/local/lib/python3.6/dist-packages/seaborn/categorical.py:454: FutureWarning: remove_na is deprecated and is a private function. Do not use.\n",
            "  box_data = remove_na(group_data)\n"
          ],
          "name": "stderr"
        },
        {
          "output_type": "display_data",
          "data": {
            "image/png": "[encoded data removed]",
            "text/plain": [
              "<Figure size 1152x576 with 1 Axes>"
            ]
          },
          "metadata": {
            "tags": []
          }
        }
      ]
    },
    {
      "metadata": {
        "id": "z2owRx5hOJ9N",
        "colab_type": "text"
      },
      "cell_type": "markdown",
      "source": [
        "## (10) YearRemodAdd \n",
        "Remodel date (sameas construction date if no remodeling or additions)   "
      ]
    },
    {
      "metadata": {
        "id": "f-lWaMWROPKw",
        "colab_type": "code",
        "outputId": "b14776b1-d9ce-4e99-bceb-794e5a5700be",
        "colab": {
          "base_uri": "https://localhost:8080/",
          "height": 174
        }
      },
      "cell_type": "code",
      "source": [
        "train['YearRemodAdd'].describe()"
      ],
      "execution_count": 0,
      "outputs": [
        {
          "output_type": "execute_result",
          "data": {
            "text/plain": [
              "count    1455.000000\n",
              "mean     1984.848110\n",
              "std        20.631492\n",
              "min      1950.000000\n",
              "25%      1967.000000\n",
              "50%      1994.000000\n",
              "75%      2004.000000\n",
              "max      2010.000000\n",
              "Name: YearRemodAdd, dtype: float64"
            ]
          },
          "metadata": {
            "tags": []
          },
          "execution_count": 45
        }
      ]
    },
    {
      "metadata": {
        "id": "jbcd77x2OSpU",
        "colab_type": "code",
        "outputId": "95e7c5b8-b9ee-4aa9-d258-37d8a2f21767",
        "colab": {
          "base_uri": "https://localhost:8080/",
          "height": 532
        }
      },
      "cell_type": "code",
      "source": [
        "var = 'YearRemodAdd'\n",
        "data = pd.concat([train['SalePrice'], train[var]], axis=1)\n",
        "f, ax = plt.subplots(figsize=(16, 8))\n",
        "fig = sns.boxplot(x=var, y=\"SalePrice\", data=data)"
      ],
      "execution_count": 0,
      "outputs": [
        {
          "output_type": "stream",
          "text": [
            "/usr/local/lib/python3.6/dist-packages/seaborn/categorical.py:454: FutureWarning: remove_na is deprecated and is a private function. Do not use.\n",
            "  box_data = remove_na(group_data)\n"
          ],
          "name": "stderr"
        },
        {
          "output_type": "display_data",
          "data": {
            "image/png": "[encoded data removed]",
            "text/plain": [
              "<Figure size 1152x576 with 1 Axes>"
            ]
          },
          "metadata": {
            "tags": []
          }
        }
      ]
    },
    {
      "metadata": {
        "id": "hWEXADIcOaJr",
        "colab_type": "text"
      },
      "cell_type": "markdown",
      "source": [
        "## (11) GarageYrBlt \n",
        "Year garage was built      "
      ]
    },
    {
      "metadata": {
        "id": "ESzecrp5OgU0",
        "colab_type": "code",
        "outputId": "0681c908-13ea-4711-8378-93f69835015c",
        "colab": {
          "base_uri": "https://localhost:8080/",
          "height": 174
        }
      },
      "cell_type": "code",
      "source": [
        "train['GarageYrBlt'].describe()"
      ],
      "execution_count": 0,
      "outputs": [
        {
          "output_type": "execute_result",
          "data": {
            "text/plain": [
              "count    1374.000000\n",
              "mean     1978.433042\n",
              "std        24.692329\n",
              "min      1900.000000\n",
              "25%      1961.000000\n",
              "50%      1980.000000\n",
              "75%      2002.000000\n",
              "max      2010.000000\n",
              "Name: GarageYrBlt, dtype: float64"
            ]
          },
          "metadata": {
            "tags": []
          },
          "execution_count": 47
        }
      ]
    },
    {
      "metadata": {
        "id": "l0eP53RtOk26",
        "colab_type": "code",
        "outputId": "91841ef3-07f2-4d78-d8c7-7159d118d63c",
        "colab": {
          "base_uri": "https://localhost:8080/",
          "height": 532
        }
      },
      "cell_type": "code",
      "source": [
        "var = 'GarageYrBlt'\n",
        "data = pd.concat([train['SalePrice'], train[var]], axis=1)\n",
        "f, ax = plt.subplots(figsize=(16, 8))\n",
        "fig = sns.boxplot(x=var, y=\"SalePrice\", data=data)"
      ],
      "execution_count": 0,
      "outputs": [
        {
          "output_type": "stream",
          "text": [
            "/usr/local/lib/python3.6/dist-packages/seaborn/categorical.py:454: FutureWarning: remove_na is deprecated and is a private function. Do not use.\n",
            "  box_data = remove_na(group_data)\n"
          ],
          "name": "stderr"
        },
        {
          "output_type": "display_data",
          "data": {
            "image/png": "[encoded data removed]",
            "text/plain": [
              "<Figure size 1152x576 with 1 Axes>"
            ]
          },
          "metadata": {
            "tags": []
          }
        }
      ]
    },
    {
      "metadata": {
        "id": "ToL34mdDOndg",
        "colab_type": "text"
      },
      "cell_type": "markdown",
      "source": [
        "## (12) MasVnrArea \n",
        "Masonry veneer area in square feet   "
      ]
    },
    {
      "metadata": {
        "id": "XGtOUWEhOqCZ",
        "colab_type": "code",
        "outputId": "1901d14e-515c-4993-feda-e139c0a3347e",
        "colab": {
          "base_uri": "https://localhost:8080/",
          "height": 174
        }
      },
      "cell_type": "code",
      "source": [
        "train['MasVnrArea'].describe()"
      ],
      "execution_count": 0,
      "outputs": [
        {
          "output_type": "execute_result",
          "data": {
            "text/plain": [
              "count    1447.000000\n",
              "mean      102.652384\n",
              "std       179.524183\n",
              "min         0.000000\n",
              "25%         0.000000\n",
              "50%         0.000000\n",
              "75%       164.500000\n",
              "max      1600.000000\n",
              "Name: MasVnrArea, dtype: float64"
            ]
          },
          "metadata": {
            "tags": []
          },
          "execution_count": 49
        }
      ]
    },
    {
      "metadata": {
        "colab_type": "code",
        "id": "IDJtXdbpO9Q1",
        "outputId": "044e51ee-34a5-4a64-810d-12c716af029f",
        "colab": {
          "base_uri": "https://localhost:8080/",
          "height": 511
        }
      },
      "cell_type": "code",
      "source": [
        "# MasVnrArea vs Sale Price\n",
        "sns.jointplot(x=train['MasVnrArea'], y=train['SalePrice'], kind='reg')"
      ],
      "execution_count": 0,
      "outputs": [
        {
          "output_type": "stream",
          "text": [
            "/usr/local/lib/python3.6/dist-packages/matplotlib/axes/_axes.py:6521: MatplotlibDeprecationWarning: \n",
            "The 'normed' kwarg was deprecated in Matplotlib 2.1 and will be removed in 3.1. Use 'density' instead.\n",
            "  alternative=\"'density'\", removal=\"3.1\")\n"
          ],
          "name": "stderr"
        },
        {
          "output_type": "execute_result",
          "data": {
            "text/plain": [
              "<seaborn.axisgrid.JointGrid at 0x7fb997ac32b0>"
            ]
          },
          "metadata": {
            "tags": []
          },
          "execution_count": 50
        },
        {
          "output_type": "display_data",
          "data": {
            "image/png": "[encoded data removed]",
            "text/plain": [
              "<Figure size 432x432 with 3 Axes>"
            ]
          },
          "metadata": {
            "tags": []
          }
        }
      ]
    },
    {
      "metadata": {
        "colab_type": "text",
        "id": "mgLboQCtPFRV"
      },
      "cell_type": "markdown",
      "source": [
        "이상치 처리\n"
      ]
    },
    {
      "metadata": {
        "colab_type": "code",
        "id": "MdxaRFzLPFRW",
        "colab": {}
      },
      "cell_type": "code",
      "source": [
        "train = train.drop(train[(train['MasVnrArea']>1500) \n",
        "                         & (train['SalePrice']<12.5)].index).reset_index(drop=True)"
      ],
      "execution_count": 0,
      "outputs": []
    },
    {
      "metadata": {
        "colab_type": "code",
        "id": "-78nrhHGPFRY",
        "outputId": "d574e733-25c2-44d4-f959-6445005072c5",
        "colab": {
          "base_uri": "https://localhost:8080/",
          "height": 511
        }
      },
      "cell_type": "code",
      "source": [
        "sns.jointplot(x=train['MasVnrArea'], y=train['SalePrice'], kind='reg')\n"
      ],
      "execution_count": 0,
      "outputs": [
        {
          "output_type": "stream",
          "text": [
            "/usr/local/lib/python3.6/dist-packages/matplotlib/axes/_axes.py:6521: MatplotlibDeprecationWarning: \n",
            "The 'normed' kwarg was deprecated in Matplotlib 2.1 and will be removed in 3.1. Use 'density' instead.\n",
            "  alternative=\"'density'\", removal=\"3.1\")\n"
          ],
          "name": "stderr"
        },
        {
          "output_type": "execute_result",
          "data": {
            "text/plain": [
              "<seaborn.axisgrid.JointGrid at 0x7fb9981cda90>"
            ]
          },
          "metadata": {
            "tags": []
          },
          "execution_count": 52
        },
        {
          "output_type": "display_data",
          "data": {
            "image/png": "[encoded data removed]",
            "text/plain": [
              "<Figure size 432x432 with 3 Axes>"
            ]
          },
          "metadata": {
            "tags": []
          }
        }
      ]
    },
    {
      "metadata": {
        "id": "I8UAzpYnPRgv",
        "colab_type": "text"
      },
      "cell_type": "markdown",
      "source": [
        "## (13) Fireplaces \n",
        "Number of fireplaces    "
      ]
    },
    {
      "metadata": {
        "id": "1PNvH8dAPTUN",
        "colab_type": "code",
        "outputId": "5507e1c8-dcd4-4adf-f402-96d4a9a32a97",
        "colab": {
          "base_uri": "https://localhost:8080/",
          "height": 174
        }
      },
      "cell_type": "code",
      "source": [
        "train['Fireplaces'].describe()"
      ],
      "execution_count": 0,
      "outputs": [
        {
          "output_type": "execute_result",
          "data": {
            "text/plain": [
              "count    1454.000000\n",
              "mean        0.610729\n",
              "std         0.642428\n",
              "min         0.000000\n",
              "25%         0.000000\n",
              "50%         1.000000\n",
              "75%         1.000000\n",
              "max         3.000000\n",
              "Name: Fireplaces, dtype: float64"
            ]
          },
          "metadata": {
            "tags": []
          },
          "execution_count": 53
        }
      ]
    },
    {
      "metadata": {
        "colab_type": "code",
        "id": "LdrXYYgOPc2f",
        "outputId": "b9fd8224-7e77-4d58-9c37-cd7f41b0eec2",
        "colab": {
          "base_uri": "https://localhost:8080/",
          "height": 422
        }
      },
      "cell_type": "code",
      "source": [
        "# Fireplaces vs Sale Price\n",
        "var = 'Fireplaces'\n",
        "data = pd.concat([train['SalePrice'], train[var]], axis=1)\n",
        "f, ax = plt.subplots(figsize=(8, 6))\n",
        "fig = sns.boxplot(x=var, y=\"SalePrice\", data=data)"
      ],
      "execution_count": 0,
      "outputs": [
        {
          "output_type": "stream",
          "text": [
            "/usr/local/lib/python3.6/dist-packages/seaborn/categorical.py:454: FutureWarning: remove_na is deprecated and is a private function. Do not use.\n",
            "  box_data = remove_na(group_data)\n"
          ],
          "name": "stderr"
        },
        {
          "output_type": "display_data",
          "data": {
            "image/png": "[encoded data removed]",
            "text/plain": [
              "<Figure size 576x432 with 1 Axes>"
            ]
          },
          "metadata": {
            "tags": []
          }
        }
      ]
    },
    {
      "metadata": {
        "id": "lLzYqlJcISMv",
        "colab_type": "text"
      },
      "cell_type": "markdown",
      "source": [
        "# *3. Data Cleansing*"
      ]
    },
    {
      "metadata": {
        "id": "VkB6hJDpIS4h",
        "colab_type": "code",
        "outputId": "d364b409-92d5-460f-de6a-5159c49f7655",
        "colab": {
          "base_uri": "https://localhost:8080/",
          "height": 664
        }
      },
      "cell_type": "code",
      "source": [
        "all_data = pd.concat([train, test]).reset_index(drop=True)\n",
        "null_values = all_data.isnull().sum()\n",
        "sorted_null_values = sorted(null_values.items(), reverse=True, key=operator.itemgetter(1))\n",
        "\n",
        "print(\"%15s| %5s|%12s\" % (\"Attribute\", \"Null_Val\", \"Data Type\"))\n",
        "print('-'*50)\n",
        "for (k, v) in sorted_null_values:\n",
        "    if v > 0:\n",
        "        print(\"%15s %5d %12s\" % (k, v, all_data[k].dtype))"
      ],
      "execution_count": 0,
      "outputs": [
        {
          "output_type": "stream",
          "text": [
            "      Attribute| Null_Val|   Data Type\n",
            "--------------------------------------------------\n",
            "         PoolQC  2904       object\n",
            "    MiscFeature  2809       object\n",
            "          Alley  2716       object\n",
            "          Fence  2342       object\n",
            "      SalePrice  1459      float64\n",
            "    FireplaceQu  1419       object\n",
            "    LotFrontage   485      float64\n",
            "     GarageCond   159       object\n",
            "   GarageFinish   159       object\n",
            "     GarageQual   159       object\n",
            "    GarageYrBlt   159      float64\n",
            "     GarageType   157       object\n",
            "       BsmtCond    82       object\n",
            "   BsmtExposure    82       object\n",
            "       BsmtQual    81       object\n",
            "   BsmtFinType2    80       object\n",
            "   BsmtFinType1    79       object\n",
            "     MasVnrType    24       object\n",
            "     MasVnrArea    23      float64\n",
            "       MSZoning     4       object\n",
            "   BsmtFullBath     2      float64\n",
            "   BsmtHalfBath     2      float64\n",
            "     Functional     2       object\n",
            "      Utilities     2       object\n",
            "     BsmtFinSF1     1      float64\n",
            "     BsmtFinSF2     1      float64\n",
            "      BsmtUnfSF     1      float64\n",
            "     Electrical     1       object\n",
            "    Exterior1st     1       object\n",
            "    Exterior2nd     1       object\n",
            "     GarageArea     1      float64\n",
            "     GarageCars     1      float64\n",
            "    KitchenQual     1       object\n",
            "       SaleType     1       object\n",
            "    TotalBsmtSF     1      float64\n"
          ],
          "name": "stdout"
        }
      ]
    },
    {
      "metadata": {
        "id": "wI_135biYEsW",
        "colab_type": "text"
      },
      "cell_type": "markdown",
      "source": [
        "PoolQC  2904       object   \n",
        "=>        NA\tNo Pool\n",
        "\n",
        "MiscFeature  2809       object   \n",
        "=> NA\tNone   \n",
        "\n",
        "Alley  2716       object   \n",
        "=> NA \tNo alley access\n",
        "\n",
        "Fence  2342       object   \n",
        "=>   NA\tNo Fence\n",
        "\n",
        "SalePrice  1459      float64   \n",
        "=> 이건 testset에 없는게 당연   \n",
        "\n",
        "FireplaceQu  1419       object   \n",
        "=>        NA\tNo Fireplace   \n",
        "\n",
        "LotFrontage   485      float64   \n",
        "=> Linear feet of street connected to property   \n",
        "==> median\n",
        "\n",
        "GarageCond   159       object   \n",
        "=>  NA\tNo Garage\n",
        "\n",
        "GarageFinish   159       object   \n",
        "=> NA\tNo Garage   \n",
        "...   \n",
        "==> Related  Garage   \n",
        "===> object -> None   \n",
        "===> float -> 0   \n",
        "\n",
        "Related Bsmt\n",
        "=> object -> None\n",
        "=> float -> 0"
      ]
    },
    {
      "metadata": {
        "id": "rjPvI0OvpBKZ",
        "colab_type": "code",
        "outputId": "4bf7df2e-bfab-4d60-d056-b5f1ad7d0f21",
        "colab": {
          "base_uri": "https://localhost:8080/",
          "height": 664
        }
      },
      "cell_type": "code",
      "source": [
        "corrLot = train.iloc[:,1:].corr()\n",
        "corrLot = corr['LotFrontage'].sort_values(axis=0,ascending=False).iloc[1:]\n",
        "corrLot"
      ],
      "execution_count": 0,
      "outputs": [
        {
          "output_type": "execute_result",
          "data": {
            "text/plain": [
              "1stFlrSF         0.457181\n",
              "LotArea          0.426095\n",
              "GrLivArea        0.402797\n",
              "TotalBsmtSF      0.392075\n",
              "SalePrice        0.355879\n",
              "TotRmsAbvGrd     0.352096\n",
              "GarageArea       0.344997\n",
              "GarageCars       0.285691\n",
              "Fireplaces       0.266639\n",
              "BedroomAbvGr     0.263170\n",
              "OverallQual      0.251646\n",
              "BsmtFinSF1       0.233633\n",
              "PoolArea         0.206167\n",
              "FullBath         0.198769\n",
              "MasVnrArea       0.193458\n",
              "OpenPorchSF      0.151972\n",
              "BsmtUnfSF        0.132644\n",
              "YearBuilt        0.123349\n",
              "BsmtFullBath     0.100949\n",
              "YearRemodAdd     0.088866\n",
              "WoodDeckSF       0.088521\n",
              "2ndFlrSF         0.080177\n",
              "GarageYrBlt      0.070250\n",
              "3SsnPorch        0.070029\n",
              "HalfBath         0.053532\n",
              "BsmtFinSF2       0.049900\n",
              "ScreenPorch      0.041383\n",
              "LowQualFinSF     0.038469\n",
              "MoSold           0.011200\n",
              "EnclosedPorch    0.010700\n",
              "YrSold           0.007450\n",
              "MiscVal          0.003368\n",
              "KitchenAbvGr    -0.006069\n",
              "BsmtHalfBath    -0.007234\n",
              "OverallCond     -0.059213\n",
              "MSSubClass      -0.386347\n",
              "Name: LotFrontage, dtype: float64"
            ]
          },
          "metadata": {
            "tags": []
          },
          "execution_count": 56
        }
      ]
    },
    {
      "metadata": {
        "id": "TexJEar8nnsP",
        "colab_type": "code",
        "colab": {}
      },
      "cell_type": "code",
      "source": [
        "all_data[\"PoolQC\"] = all_data[\"PoolQC\"].fillna(\"None\")\n",
        "all_data['MiscFeature'] = all_data['MiscFeature'].fillna('None')\n",
        "all_data['Alley'] = all_data['Alley'].fillna('None')\n",
        "all_data['Fence'] = all_data['Fence'].fillna('None')\n",
        "all_data['FireplaceQu'] = all_data['FireplaceQu'].fillna('None')\n",
        "all_data[\"LotFrontage\"] = all_data.groupby(\"1stFlrSF\")[\"LotFrontage\"].transform(lambda x: x.fillna(x.median()))\n",
        "\n",
        "for col in ('GarageType', 'GarageFinish', 'GarageQual', 'GarageCond'):\n",
        "    all_data[col] = all_data[col].fillna('None')\n",
        "for col in ('GarageYrBlt', 'GarageArea', 'GarageCars'):\n",
        "    all_data[col] = all_data[col].fillna(0)\n",
        "for col in ('BsmtFinSF1', 'BsmtFinSF2', 'BsmtUnfSF','TotalBsmtSF', 'BsmtFullBath', 'BsmtHalfBath'):\n",
        "    all_data[col] = all_data[col].fillna(0)\n",
        "for col in ('BsmtQual', 'BsmtCond', 'BsmtExposure', 'BsmtFinType1', 'BsmtFinType2'):\n",
        "    all_data[col] = all_data[col].fillna('None')"
      ],
      "execution_count": 0,
      "outputs": []
    },
    {
      "metadata": {
        "id": "OJ6l94Gg1Xoi",
        "colab_type": "code",
        "colab": {}
      },
      "cell_type": "code",
      "source": [
        "all_data[\"LotFrontage\"] = all_data.groupby(\"1stFlrSF\")[\"LotFrontage\"].transform(lambda x: x.fillna(x.mean()))         "
      ],
      "execution_count": 0,
      "outputs": []
    },
    {
      "metadata": {
        "id": "Uezfu2VOIS_0",
        "colab_type": "code",
        "outputId": "38f2b9ca-6ea8-4641-e60f-24ec5c6b29a7",
        "colab": {
          "base_uri": "https://localhost:8080/",
          "height": 262
        }
      },
      "cell_type": "code",
      "source": [
        "null_values = all_data.isnull().sum()\n",
        "sorted_null_values = sorted(null_values.items(), reverse=True, key=operator.itemgetter(1))\n",
        "\n",
        "print(\"%15s| %5s|%12s\" % (\"Attribute\", \"Null_Val\", \"Data Type\"))\n",
        "print('-'*50)\n",
        "for (k, v) in sorted_null_values:\n",
        "    if v > 0:\n",
        "        print(\"%15s %5d %12s\" % (k, v, all_data[k].dtype))"
      ],
      "execution_count": 0,
      "outputs": [
        {
          "output_type": "stream",
          "text": [
            "      Attribute| Null_Val|   Data Type\n",
            "--------------------------------------------------\n",
            "      SalePrice  1459      float64\n",
            "    LotFrontage    83      float64\n",
            "     MasVnrType    24       object\n",
            "     MasVnrArea    23      float64\n",
            "       MSZoning     4       object\n",
            "     Functional     2       object\n",
            "      Utilities     2       object\n",
            "     Electrical     1       object\n",
            "    Exterior1st     1       object\n",
            "    Exterior2nd     1       object\n",
            "    KitchenQual     1       object\n",
            "       SaleType     1       object\n"
          ],
          "name": "stdout"
        }
      ]
    },
    {
      "metadata": {
        "id": "MfMYzwL4ueD8",
        "colab_type": "code",
        "colab": {}
      },
      "cell_type": "code",
      "source": [
        "all_data[\"LotFrontage\"] = all_data.groupby(\"LotArea\")[\"LotFrontage\"].transform(lambda x: x.fillna(x.mean()))"
      ],
      "execution_count": 0,
      "outputs": []
    },
    {
      "metadata": {
        "id": "TgMkhaSk1nrs",
        "colab_type": "code",
        "outputId": "6324ad72-a27a-4a27-e7b5-f7228d19d378",
        "colab": {
          "base_uri": "https://localhost:8080/",
          "height": 262
        }
      },
      "cell_type": "code",
      "source": [
        "null_values = all_data.isnull().sum()\n",
        "sorted_null_values = sorted(null_values.items(), reverse=True, key=operator.itemgetter(1))\n",
        "\n",
        "print(\"%15s| %5s|%12s\" % (\"Attribute\", \"Null_Val\", \"Data Type\"))\n",
        "print('-'*50)\n",
        "for (k, v) in sorted_null_values:\n",
        "    if v > 0:\n",
        "        print(\"%15s %5d %12s\" % (k, v, all_data[k].dtype))"
      ],
      "execution_count": 0,
      "outputs": [
        {
          "output_type": "stream",
          "text": [
            "      Attribute| Null_Val|   Data Type\n",
            "--------------------------------------------------\n",
            "      SalePrice  1459      float64\n",
            "    LotFrontage    69      float64\n",
            "     MasVnrType    24       object\n",
            "     MasVnrArea    23      float64\n",
            "       MSZoning     4       object\n",
            "     Functional     2       object\n",
            "      Utilities     2       object\n",
            "     Electrical     1       object\n",
            "    Exterior1st     1       object\n",
            "    Exterior2nd     1       object\n",
            "    KitchenQual     1       object\n",
            "       SaleType     1       object\n"
          ],
          "name": "stdout"
        }
      ]
    },
    {
      "metadata": {
        "id": "Z2gF9nJz395g",
        "colab_type": "code",
        "colab": {}
      },
      "cell_type": "code",
      "source": [
        "all_data[\"LotFrontage\"] = all_data.groupby(\"GrLivArea\")[\"LotFrontage\"].transform(lambda x: x.fillna(x.mean()))        "
      ],
      "execution_count": 0,
      "outputs": []
    },
    {
      "metadata": {
        "id": "p62VXVr64IqX",
        "colab_type": "code",
        "outputId": "3cac856e-73d2-4097-94a4-518f4a0bed25",
        "colab": {
          "base_uri": "https://localhost:8080/",
          "height": 262
        }
      },
      "cell_type": "code",
      "source": [
        "null_values = all_data.isnull().sum()\n",
        "sorted_null_values = sorted(null_values.items(), reverse=True, key=operator.itemgetter(1))\n",
        "\n",
        "print(\"%15s| %5s|%12s\" % (\"Attribute\", \"Null_Val\", \"Data Type\"))\n",
        "print('-'*50)\n",
        "for (k, v) in sorted_null_values:\n",
        "    if v > 0:\n",
        "        print(\"%15s %5d %12s\" % (k, v, all_data[k].dtype))"
      ],
      "execution_count": 0,
      "outputs": [
        {
          "output_type": "stream",
          "text": [
            "      Attribute| Null_Val|   Data Type\n",
            "--------------------------------------------------\n",
            "      SalePrice  1459      float64\n",
            "    LotFrontage    31      float64\n",
            "     MasVnrType    24       object\n",
            "     MasVnrArea    23      float64\n",
            "       MSZoning     4       object\n",
            "     Functional     2       object\n",
            "      Utilities     2       object\n",
            "     Electrical     1       object\n",
            "    Exterior1st     1       object\n",
            "    Exterior2nd     1       object\n",
            "    KitchenQual     1       object\n",
            "       SaleType     1       object\n"
          ],
          "name": "stdout"
        }
      ]
    },
    {
      "metadata": {
        "id": "-yHDh5OCTT5I",
        "colab_type": "code",
        "colab": {}
      },
      "cell_type": "code",
      "source": [
        "all_data[\"MasVnrType\"] = all_data[\"MasVnrType\"].fillna(\"None\")\n",
        "all_data[\"MasVnrArea\"] = all_data[\"MasVnrArea\"].fillna(0)\n",
        "all_data['LotFrontage'] = all_data['LotFrontage'].fillna(all_data['LotFrontage'].mode()[0])\n",
        "all_data['MSZoning'] = all_data['MSZoning'].fillna(all_data['MSZoning'].mode()[0])\n",
        "all_data['Utilities'] = all_data['Utilities'].fillna(all_data['Utilities'].mode()[0])\n",
        "all_data[\"Functional\"] = all_data['Functional'].fillna(all_data['Functional'].mode()[0])\n",
        "all_data['Electrical'] = all_data['Electrical'].fillna(all_data['Electrical'].mode()[0])\n",
        "all_data['KitchenQual'] = all_data['KitchenQual'].fillna(all_data['KitchenQual'].mode()[0])\n",
        "all_data['Exterior1st'] = all_data['Exterior1st'].fillna(all_data['Exterior1st'].mode()[0])\n",
        "all_data['Exterior2nd'] = all_data['Exterior2nd'].fillna(all_data['Exterior2nd'].mode()[0])\n",
        "all_data['SaleType'] = all_data['SaleType'].fillna(all_data['SaleType'].mode()[0])"
      ],
      "execution_count": 0,
      "outputs": []
    },
    {
      "metadata": {
        "id": "GjWOUs9LITNL",
        "colab_type": "code",
        "outputId": "cbdcd683-65f6-46ca-ddd5-36e1de4bf5a8",
        "colab": {
          "base_uri": "https://localhost:8080/",
          "height": 69
        }
      },
      "cell_type": "code",
      "source": [
        "null_values = all_data.isnull().sum()\n",
        "sorted_null_values = sorted(null_values.items(), reverse=True, key=operator.itemgetter(1))\n",
        "\n",
        "print(\"%15s| %5s|%12s\" % (\"Attribute\", \"Null_Val\", \"Data Type\"))\n",
        "print('-'*50)\n",
        "for (k, v) in sorted_null_values:\n",
        "    if v > 0:\n",
        "        print(\"%15s %5d %12s\" % (k, v, all_data[k].dtype))"
      ],
      "execution_count": 0,
      "outputs": [
        {
          "output_type": "stream",
          "text": [
            "      Attribute| Null_Val|   Data Type\n",
            "--------------------------------------------------\n",
            "      SalePrice  1459      float64\n"
          ],
          "name": "stdout"
        }
      ]
    },
    {
      "metadata": {
        "id": "zK3mOjJ3ITPy",
        "colab_type": "text"
      },
      "cell_type": "markdown",
      "source": [
        "# *4. Feature Tuning*"
      ]
    },
    {
      "metadata": {
        "id": "htYCGc7mNa39",
        "colab_type": "text"
      },
      "cell_type": "markdown",
      "source": [
        "## 4-1.  Tuning Categorical feature "
      ]
    },
    {
      "metadata": {
        "id": "r2npcfnS9pM5",
        "colab_type": "code",
        "colab": {}
      },
      "cell_type": "code",
      "source": [
        "obj_data = all_data.dtypes[all_data.dtypes == \"object\"].index"
      ],
      "execution_count": 0,
      "outputs": []
    },
    {
      "metadata": {
        "id": "tRXBTs-NCfKW",
        "colab_type": "code",
        "colab": {}
      },
      "cell_type": "code",
      "source": [
        "numeric_data = all_data.dtypes[all_data.dtypes != 'object'].index"
      ],
      "execution_count": 0,
      "outputs": []
    },
    {
      "metadata": {
        "id": "8TDi-RGzITWZ",
        "colab_type": "code",
        "outputId": "e1ce607c-3b12-4e00-9c44-673491a6d38a",
        "colab": {
          "base_uri": "https://localhost:8080/",
          "height": 349
        }
      },
      "cell_type": "code",
      "source": [
        "numeric_data, obj_data"
      ],
      "execution_count": 0,
      "outputs": [
        {
          "output_type": "execute_result",
          "data": {
            "text/plain": [
              "(Index(['1stFlrSF', '2ndFlrSF', '3SsnPorch', 'BedroomAbvGr', 'BsmtFinSF1',\n",
              "        'BsmtFinSF2', 'BsmtFullBath', 'BsmtHalfBath', 'BsmtUnfSF',\n",
              "        'EnclosedPorch', 'Fireplaces', 'FullBath', 'GarageArea', 'GarageCars',\n",
              "        'GarageYrBlt', 'GrLivArea', 'HalfBath', 'Id', 'KitchenAbvGr', 'LotArea',\n",
              "        'LotFrontage', 'LowQualFinSF', 'MSSubClass', 'MasVnrArea', 'MiscVal',\n",
              "        'MoSold', 'OpenPorchSF', 'OverallCond', 'OverallQual', 'PoolArea',\n",
              "        'SalePrice', 'ScreenPorch', 'TotRmsAbvGrd', 'TotalBsmtSF', 'WoodDeckSF',\n",
              "        'YearBuilt', 'YearRemodAdd', 'YrSold'],\n",
              "       dtype='object'),\n",
              " Index(['Alley', 'BldgType', 'BsmtCond', 'BsmtExposure', 'BsmtFinType1',\n",
              "        'BsmtFinType2', 'BsmtQual', 'CentralAir', 'Condition1', 'Condition2',\n",
              "        'Electrical', 'ExterCond', 'ExterQual', 'Exterior1st', 'Exterior2nd',\n",
              "        'Fence', 'FireplaceQu', 'Foundation', 'Functional', 'GarageCond',\n",
              "        'GarageFinish', 'GarageQual', 'GarageType', 'Heating', 'HeatingQC',\n",
              "        'HouseStyle', 'KitchenQual', 'LandContour', 'LandSlope', 'LotConfig',\n",
              "        'LotShape', 'MSZoning', 'MasVnrType', 'MiscFeature', 'Neighborhood',\n",
              "        'PavedDrive', 'PoolQC', 'RoofMatl', 'RoofStyle', 'SaleCondition',\n",
              "        'SaleType', 'Street', 'Utilities'],\n",
              "       dtype='object'))"
            ]
          },
          "metadata": {
            "tags": []
          },
          "execution_count": 68
        }
      ]
    },
    {
      "metadata": {
        "id": "as2qstIBMajL",
        "colab_type": "code",
        "outputId": "fd99d0cf-9131-4e46-c1a8-1038e105eb2a",
        "colab": {
          "base_uri": "https://localhost:8080/",
          "height": 3149
        }
      },
      "cell_type": "code",
      "source": [
        "for col in obj_data:\n",
        "  print('title : {} len unique = {} \\n{}\\n'.format(col,len(all_data[col].unique()), all_data[col].unique()))\n",
        "  print('*'*50)"
      ],
      "execution_count": 0,
      "outputs": [
        {
          "output_type": "stream",
          "text": [
            "title : Alley len unique = 3 \n",
            "['None' 'Grvl' 'Pave']\n",
            "\n",
            "**************************************************\n",
            "title : BldgType len unique = 5 \n",
            "['1Fam' '2fmCon' 'Duplex' 'TwnhsE' 'Twnhs']\n",
            "\n",
            "**************************************************\n",
            "title : BsmtCond len unique = 5 \n",
            "['TA' 'Gd' 'None' 'Fa' 'Po']\n",
            "\n",
            "**************************************************\n",
            "title : BsmtExposure len unique = 5 \n",
            "['No' 'Gd' 'Mn' 'Av' 'None']\n",
            "\n",
            "**************************************************\n",
            "title : BsmtFinType1 len unique = 7 \n",
            "['GLQ' 'ALQ' 'Unf' 'Rec' 'BLQ' 'None' 'LwQ']\n",
            "\n",
            "**************************************************\n",
            "title : BsmtFinType2 len unique = 7 \n",
            "['Unf' 'BLQ' 'None' 'ALQ' 'Rec' 'LwQ' 'GLQ']\n",
            "\n",
            "**************************************************\n",
            "title : BsmtQual len unique = 5 \n",
            "['Gd' 'TA' 'Ex' 'None' 'Fa']\n",
            "\n",
            "**************************************************\n",
            "title : CentralAir len unique = 2 \n",
            "['Y' 'N']\n",
            "\n",
            "**************************************************\n",
            "title : Condition1 len unique = 9 \n",
            "['Norm' 'Feedr' 'PosN' 'Artery' 'RRAe' 'RRNn' 'RRAn' 'PosA' 'RRNe']\n",
            "\n",
            "**************************************************\n",
            "title : Condition2 len unique = 8 \n",
            "['Norm' 'Artery' 'RRNn' 'Feedr' 'PosA' 'PosN' 'RRAn' 'RRAe']\n",
            "\n",
            "**************************************************\n",
            "title : Electrical len unique = 5 \n",
            "['SBrkr' 'FuseF' 'FuseA' 'FuseP' 'Mix']\n",
            "\n",
            "**************************************************\n",
            "title : ExterCond len unique = 5 \n",
            "['TA' 'Gd' 'Fa' 'Po' 'Ex']\n",
            "\n",
            "**************************************************\n",
            "title : ExterQual len unique = 4 \n",
            "['Gd' 'TA' 'Ex' 'Fa']\n",
            "\n",
            "**************************************************\n",
            "title : Exterior1st len unique = 15 \n",
            "['VinylSd' 'MetalSd' 'Wd Sdng' 'HdBoard' 'BrkFace' 'WdShing' 'CemntBd'\n",
            " 'Plywood' 'AsbShng' 'Stucco' 'BrkComm' 'AsphShn' 'Stone' 'ImStucc'\n",
            " 'CBlock']\n",
            "\n",
            "**************************************************\n",
            "title : Exterior2nd len unique = 16 \n",
            "['VinylSd' 'MetalSd' 'Wd Shng' 'HdBoard' 'Plywood' 'Wd Sdng' 'CmentBd'\n",
            " 'BrkFace' 'Stucco' 'AsbShng' 'Brk Cmn' 'ImStucc' 'AsphShn' 'Stone'\n",
            " 'Other' 'CBlock']\n",
            "\n",
            "**************************************************\n",
            "title : Fence len unique = 5 \n",
            "['None' 'MnPrv' 'GdWo' 'GdPrv' 'MnWw']\n",
            "\n",
            "**************************************************\n",
            "title : FireplaceQu len unique = 6 \n",
            "['None' 'TA' 'Gd' 'Fa' 'Ex' 'Po']\n",
            "\n",
            "**************************************************\n",
            "title : Foundation len unique = 6 \n",
            "['PConc' 'CBlock' 'BrkTil' 'Wood' 'Slab' 'Stone']\n",
            "\n",
            "**************************************************\n",
            "title : Functional len unique = 7 \n",
            "['Typ' 'Min1' 'Maj1' 'Min2' 'Mod' 'Maj2' 'Sev']\n",
            "\n",
            "**************************************************\n",
            "title : GarageCond len unique = 6 \n",
            "['TA' 'Fa' 'None' 'Gd' 'Po' 'Ex']\n",
            "\n",
            "**************************************************\n",
            "title : GarageFinish len unique = 4 \n",
            "['RFn' 'Unf' 'Fin' 'None']\n",
            "\n",
            "**************************************************\n",
            "title : GarageQual len unique = 6 \n",
            "['TA' 'Fa' 'Gd' 'None' 'Ex' 'Po']\n",
            "\n",
            "**************************************************\n",
            "title : GarageType len unique = 7 \n",
            "['Attchd' 'Detchd' 'BuiltIn' 'CarPort' 'None' 'Basment' '2Types']\n",
            "\n",
            "**************************************************\n",
            "title : Heating len unique = 6 \n",
            "['GasA' 'GasW' 'Grav' 'Wall' 'OthW' 'Floor']\n",
            "\n",
            "**************************************************\n",
            "title : HeatingQC len unique = 5 \n",
            "['Ex' 'Gd' 'TA' 'Fa' 'Po']\n",
            "\n",
            "**************************************************\n",
            "title : HouseStyle len unique = 8 \n",
            "['2Story' '1Story' '1.5Fin' '1.5Unf' 'SFoyer' 'SLvl' '2.5Unf' '2.5Fin']\n",
            "\n",
            "**************************************************\n",
            "title : KitchenQual len unique = 4 \n",
            "['Gd' 'TA' 'Ex' 'Fa']\n",
            "\n",
            "**************************************************\n",
            "title : LandContour len unique = 4 \n",
            "['Lvl' 'Bnk' 'Low' 'HLS']\n",
            "\n",
            "**************************************************\n",
            "title : LandSlope len unique = 3 \n",
            "['Gtl' 'Mod' 'Sev']\n",
            "\n",
            "**************************************************\n",
            "title : LotConfig len unique = 5 \n",
            "['Inside' 'FR2' 'Corner' 'CulDSac' 'FR3']\n",
            "\n",
            "**************************************************\n",
            "title : LotShape len unique = 4 \n",
            "['Reg' 'IR1' 'IR2' 'IR3']\n",
            "\n",
            "**************************************************\n",
            "title : MSZoning len unique = 5 \n",
            "['RL' 'RM' 'C (all)' 'FV' 'RH']\n",
            "\n",
            "**************************************************\n",
            "title : MasVnrType len unique = 4 \n",
            "['BrkFace' 'None' 'Stone' 'BrkCmn']\n",
            "\n",
            "**************************************************\n",
            "title : MiscFeature len unique = 5 \n",
            "['None' 'Shed' 'Gar2' 'Othr' 'TenC']\n",
            "\n",
            "**************************************************\n",
            "title : Neighborhood len unique = 25 \n",
            "['CollgCr' 'Veenker' 'Crawfor' 'NoRidge' 'Mitchel' 'Somerst' 'NWAmes'\n",
            " 'OldTown' 'BrkSide' 'Sawyer' 'NridgHt' 'NAmes' 'SawyerW' 'IDOTRR'\n",
            " 'MeadowV' 'Edwards' 'Timber' 'Gilbert' 'StoneBr' 'ClearCr' 'NPkVill'\n",
            " 'Blmngtn' 'BrDale' 'SWISU' 'Blueste']\n",
            "\n",
            "**************************************************\n",
            "title : PavedDrive len unique = 3 \n",
            "['Y' 'N' 'P']\n",
            "\n",
            "**************************************************\n",
            "title : PoolQC len unique = 4 \n",
            "['None' 'Ex' 'Fa' 'Gd']\n",
            "\n",
            "**************************************************\n",
            "title : RoofMatl len unique = 7 \n",
            "['CompShg' 'WdShngl' 'Metal' 'WdShake' 'Membran' 'Tar&Grv' 'Roll']\n",
            "\n",
            "**************************************************\n",
            "title : RoofStyle len unique = 6 \n",
            "['Gable' 'Hip' 'Gambrel' 'Mansard' 'Flat' 'Shed']\n",
            "\n",
            "**************************************************\n",
            "title : SaleCondition len unique = 6 \n",
            "['Normal' 'Abnorml' 'Partial' 'AdjLand' 'Alloca' 'Family']\n",
            "\n",
            "**************************************************\n",
            "title : SaleType len unique = 9 \n",
            "['WD' 'New' 'COD' 'ConLD' 'ConLI' 'CWD' 'ConLw' 'Con' 'Oth']\n",
            "\n",
            "**************************************************\n",
            "title : Street len unique = 2 \n",
            "['Pave' 'Grvl']\n",
            "\n",
            "**************************************************\n",
            "title : Utilities len unique = 2 \n",
            "['AllPub' 'NoSeWa']\n",
            "\n",
            "**************************************************\n"
          ],
          "name": "stdout"
        }
      ]
    },
    {
      "metadata": {
        "id": "DoafH3ojS738",
        "colab_type": "code",
        "colab": {}
      },
      "cell_type": "code",
      "source": [
        "# 정도를 나타내는 Categorical features들을 라벨링 시켜주자.\n",
        "\n",
        "from sklearn.preprocessing import LabelEncoder\n",
        "cols = ('FireplaceQu', 'BsmtQual', 'BsmtCond', 'GarageQual', 'GarageCond', \n",
        "        'ExterQual', 'ExterCond','HeatingQC', 'PoolQC', 'KitchenQual', 'BsmtFinType1', \n",
        "        'BsmtFinType2', 'Functional', 'Fence', 'BsmtExposure', 'GarageFinish', 'LandSlope',\n",
        "        'LotShape', 'PavedDrive', 'Street', 'Alley', 'CentralAir', 'MSSubClass', 'OverallCond', \n",
        "        'YrSold', 'MoSold')\n",
        "\n",
        "for c in cols:\n",
        "    lbl = LabelEncoder() \n",
        "    lbl.fit(list(all_data[c].values)) \n",
        "    all_data[c] = lbl.transform(list(all_data[c].values))\n"
      ],
      "execution_count": 0,
      "outputs": []
    },
    {
      "metadata": {
        "id": "C7KIl4Q5TRq3",
        "colab_type": "text"
      },
      "cell_type": "markdown",
      "source": [
        "## 4-2 Tuning Numeric data"
      ]
    },
    {
      "metadata": {
        "id": "orvNylnMmUaW",
        "colab_type": "code",
        "colab": {}
      },
      "cell_type": "code",
      "source": [
        "ntrain = train.shape[0]"
      ],
      "execution_count": 0,
      "outputs": []
    },
    {
      "metadata": {
        "id": "jWU-PQo8NH4I",
        "colab_type": "code",
        "colab": {}
      },
      "cell_type": "code",
      "source": [
        "# Id & SalePrice 열 처리\n",
        "train_ID = all_data.loc[:ntrain - 1,['Id']] # : 뒤에오는 애까지 가져오기 때문에 1 빼준다.\n",
        "test_ID = all_data.loc[ntrain:,['Id']].reset_index(drop=True)      # 시작은 포함되서 나온다.\n",
        "y_train = all_data.loc[:ntrain - 1,['SalePrice']]\n",
        "\n",
        "# Id 열 처리\n",
        "all_data = all_data.drop(['Id','SalePrice'], axis = 1)"
      ],
      "execution_count": 0,
      "outputs": []
    },
    {
      "metadata": {
        "id": "_khZpZL0ITkk",
        "colab_type": "code",
        "outputId": "2a29c65d-9cdc-4694-c754-7adf309a063f",
        "colab": {
          "base_uri": "https://localhost:8080/",
          "height": 34
        }
      },
      "cell_type": "code",
      "source": [
        "print(all_data['MSSubClass'].dtype)"
      ],
      "execution_count": 0,
      "outputs": [
        {
          "output_type": "stream",
          "text": [
            "int64\n"
          ],
          "name": "stdout"
        }
      ]
    },
    {
      "metadata": {
        "id": "3fpxQluJITtu",
        "colab_type": "code",
        "colab": {}
      },
      "cell_type": "code",
      "source": [
        "all_data['MSSubClass'] = all_data['MSSubClass'].astype('object')"
      ],
      "execution_count": 0,
      "outputs": []
    },
    {
      "metadata": {
        "id": "qzmLIEzaHl8o",
        "colab_type": "code",
        "outputId": "25a81fa8-f115-4bf2-afcd-1e37bbac3abf",
        "colab": {
          "base_uri": "https://localhost:8080/",
          "height": 34
        }
      },
      "cell_type": "code",
      "source": [
        "print(all_data['MSSubClass'].dtype)"
      ],
      "execution_count": 0,
      "outputs": [
        {
          "output_type": "stream",
          "text": [
            "object\n"
          ],
          "name": "stdout"
        }
      ]
    },
    {
      "metadata": {
        "id": "TzWAkE81TrIx",
        "colab_type": "code",
        "colab": {}
      },
      "cell_type": "code",
      "source": [
        "obj_data = all_data.dtypes[all_data.dtypes == \"object\"].index"
      ],
      "execution_count": 0,
      "outputs": []
    },
    {
      "metadata": {
        "id": "Z5On-wpunzOi",
        "colab_type": "code",
        "colab": {}
      },
      "cell_type": "code",
      "source": [
        "num_data = all_data.dtypes[all_data.dtypes != \"object\"].index"
      ],
      "execution_count": 0,
      "outputs": []
    },
    {
      "metadata": {
        "id": "6x5Ux_Kbtcyk",
        "colab_type": "code",
        "outputId": "7d619dbb-e753-4899-db12-405584ee0c5c",
        "colab": {
          "base_uri": "https://localhost:8080/",
          "height": 122
        }
      },
      "cell_type": "code",
      "source": [
        "obj_data"
      ],
      "execution_count": 0,
      "outputs": [
        {
          "output_type": "execute_result",
          "data": {
            "text/plain": [
              "Index(['BldgType', 'Condition1', 'Condition2', 'Electrical', 'Exterior1st',\n",
              "       'Exterior2nd', 'Foundation', 'GarageType', 'Heating', 'HouseStyle',\n",
              "       'LandContour', 'LotConfig', 'MSSubClass', 'MSZoning', 'MasVnrType',\n",
              "       'MiscFeature', 'Neighborhood', 'RoofMatl', 'RoofStyle', 'SaleCondition',\n",
              "       'SaleType', 'Utilities'],\n",
              "      dtype='object')"
            ]
          },
          "metadata": {
            "tags": []
          },
          "execution_count": 78
        }
      ]
    },
    {
      "metadata": {
        "id": "oEHoGKt7tfsZ",
        "colab_type": "code",
        "outputId": "2e61860d-303d-4007-f6f0-b2a5196d215a",
        "colab": {
          "base_uri": "https://localhost:8080/",
          "height": 244
        }
      },
      "cell_type": "code",
      "source": [
        "num_data"
      ],
      "execution_count": 0,
      "outputs": [
        {
          "output_type": "execute_result",
          "data": {
            "text/plain": [
              "Index(['1stFlrSF', '2ndFlrSF', '3SsnPorch', 'Alley', 'BedroomAbvGr',\n",
              "       'BsmtCond', 'BsmtExposure', 'BsmtFinSF1', 'BsmtFinSF2', 'BsmtFinType1',\n",
              "       'BsmtFinType2', 'BsmtFullBath', 'BsmtHalfBath', 'BsmtQual', 'BsmtUnfSF',\n",
              "       'CentralAir', 'EnclosedPorch', 'ExterCond', 'ExterQual', 'Fence',\n",
              "       'FireplaceQu', 'Fireplaces', 'FullBath', 'Functional', 'GarageArea',\n",
              "       'GarageCars', 'GarageCond', 'GarageFinish', 'GarageQual', 'GarageYrBlt',\n",
              "       'GrLivArea', 'HalfBath', 'HeatingQC', 'KitchenAbvGr', 'KitchenQual',\n",
              "       'LandSlope', 'LotArea', 'LotFrontage', 'LotShape', 'LowQualFinSF',\n",
              "       'MasVnrArea', 'MiscVal', 'MoSold', 'OpenPorchSF', 'OverallCond',\n",
              "       'OverallQual', 'PavedDrive', 'PoolArea', 'PoolQC', 'ScreenPorch',\n",
              "       'Street', 'TotRmsAbvGrd', 'TotalBsmtSF', 'WoodDeckSF', 'YearBuilt',\n",
              "       'YearRemodAdd', 'YrSold'],\n",
              "      dtype='object')"
            ]
          },
          "metadata": {
            "tags": []
          },
          "execution_count": 79
        }
      ]
    },
    {
      "metadata": {
        "id": "1nt-d7KHrTCV",
        "colab_type": "code",
        "outputId": "e6f6c6d6-8710-4319-9aee-fd9c4b8fa103",
        "colab": {
          "base_uri": "https://localhost:8080/",
          "height": 187
        }
      },
      "cell_type": "code",
      "source": [
        "all_data[obj_data].iloc[:,:20].describe()"
      ],
      "execution_count": 0,
      "outputs": [
        {
          "output_type": "execute_result",
          "data": {
            "text/html": [
              "<div>\n",
              "<style scoped>\n",
              "    .dataframe tbody tr th:only-of-type {\n",
              "        vertical-align: middle;\n",
              "    }\n",
              "\n",
              "    .dataframe tbody tr th {\n",
              "        vertical-align: top;\n",
              "    }\n",
              "\n",
              "    .dataframe thead th {\n",
              "        text-align: right;\n",
              "    }\n",
              "</style>\n",
              "<table border=\"1\" class=\"dataframe\">\n",
              "  <thead>\n",
              "    <tr style=\"text-align: right;\">\n",
              "      <th></th>\n",
              "      <th>BldgType</th>\n",
              "      <th>Condition1</th>\n",
              "      <th>Condition2</th>\n",
              "      <th>Electrical</th>\n",
              "      <th>Exterior1st</th>\n",
              "      <th>Exterior2nd</th>\n",
              "      <th>Foundation</th>\n",
              "      <th>GarageType</th>\n",
              "      <th>Heating</th>\n",
              "      <th>HouseStyle</th>\n",
              "      <th>LandContour</th>\n",
              "      <th>LotConfig</th>\n",
              "      <th>MSSubClass</th>\n",
              "      <th>MSZoning</th>\n",
              "      <th>MasVnrType</th>\n",
              "      <th>MiscFeature</th>\n",
              "      <th>Neighborhood</th>\n",
              "      <th>RoofMatl</th>\n",
              "      <th>RoofStyle</th>\n",
              "      <th>SaleCondition</th>\n",
              "    </tr>\n",
              "  </thead>\n",
              "  <tbody>\n",
              "    <tr>\n",
              "      <th>count</th>\n",
              "      <td>2913</td>\n",
              "      <td>2913</td>\n",
              "      <td>2913</td>\n",
              "      <td>2913</td>\n",
              "      <td>2913</td>\n",
              "      <td>2913</td>\n",
              "      <td>2913</td>\n",
              "      <td>2913</td>\n",
              "      <td>2913</td>\n",
              "      <td>2913</td>\n",
              "      <td>2913</td>\n",
              "      <td>2913</td>\n",
              "      <td>2913</td>\n",
              "      <td>2913</td>\n",
              "      <td>2913</td>\n",
              "      <td>2913</td>\n",
              "      <td>2913</td>\n",
              "      <td>2913</td>\n",
              "      <td>2913</td>\n",
              "      <td>2913</td>\n",
              "    </tr>\n",
              "    <tr>\n",
              "      <th>unique</th>\n",
              "      <td>5</td>\n",
              "      <td>9</td>\n",
              "      <td>8</td>\n",
              "      <td>5</td>\n",
              "      <td>15</td>\n",
              "      <td>16</td>\n",
              "      <td>6</td>\n",
              "      <td>7</td>\n",
              "      <td>6</td>\n",
              "      <td>8</td>\n",
              "      <td>4</td>\n",
              "      <td>5</td>\n",
              "      <td>16</td>\n",
              "      <td>5</td>\n",
              "      <td>4</td>\n",
              "      <td>5</td>\n",
              "      <td>25</td>\n",
              "      <td>7</td>\n",
              "      <td>6</td>\n",
              "      <td>6</td>\n",
              "    </tr>\n",
              "    <tr>\n",
              "      <th>top</th>\n",
              "      <td>1Fam</td>\n",
              "      <td>Norm</td>\n",
              "      <td>Norm</td>\n",
              "      <td>SBrkr</td>\n",
              "      <td>VinylSd</td>\n",
              "      <td>VinylSd</td>\n",
              "      <td>PConc</td>\n",
              "      <td>Attchd</td>\n",
              "      <td>GasA</td>\n",
              "      <td>1Story</td>\n",
              "      <td>Lvl</td>\n",
              "      <td>Inside</td>\n",
              "      <td>0</td>\n",
              "      <td>RL</td>\n",
              "      <td>None</td>\n",
              "      <td>None</td>\n",
              "      <td>NAmes</td>\n",
              "      <td>CompShg</td>\n",
              "      <td>Gable</td>\n",
              "      <td>Normal</td>\n",
              "    </tr>\n",
              "    <tr>\n",
              "      <th>freq</th>\n",
              "      <td>2420</td>\n",
              "      <td>2507</td>\n",
              "      <td>2884</td>\n",
              "      <td>2666</td>\n",
              "      <td>1024</td>\n",
              "      <td>1013</td>\n",
              "      <td>1304</td>\n",
              "      <td>1721</td>\n",
              "      <td>2868</td>\n",
              "      <td>1468</td>\n",
              "      <td>2620</td>\n",
              "      <td>2128</td>\n",
              "      <td>1078</td>\n",
              "      <td>2265</td>\n",
              "      <td>1765</td>\n",
              "      <td>2809</td>\n",
              "      <td>443</td>\n",
              "      <td>2871</td>\n",
              "      <td>2308</td>\n",
              "      <td>2399</td>\n",
              "    </tr>\n",
              "  </tbody>\n",
              "</table>\n",
              "</div>"
            ],
            "text/plain": [
              "       BldgType Condition1 Condition2 Electrical Exterior1st Exterior2nd  \\\n",
              "count      2913       2913       2913       2913        2913        2913   \n",
              "unique        5          9          8          5          15          16   \n",
              "top        1Fam       Norm       Norm      SBrkr     VinylSd     VinylSd   \n",
              "freq       2420       2507       2884       2666        1024        1013   \n",
              "\n",
              "       Foundation GarageType Heating HouseStyle LandContour LotConfig  \\\n",
              "count        2913       2913    2913       2913        2913      2913   \n",
              "unique          6          7       6          8           4         5   \n",
              "top         PConc     Attchd    GasA     1Story         Lvl    Inside   \n",
              "freq         1304       1721    2868       1468        2620      2128   \n",
              "\n",
              "        MSSubClass MSZoning MasVnrType MiscFeature Neighborhood RoofMatl  \\\n",
              "count         2913     2913       2913        2913         2913     2913   \n",
              "unique          16        5          4           5           25        7   \n",
              "top              0       RL       None        None        NAmes  CompShg   \n",
              "freq          1078     2265       1765        2809          443     2871   \n",
              "\n",
              "       RoofStyle SaleCondition  \n",
              "count       2913          2913  \n",
              "unique         6             6  \n",
              "top        Gable        Normal  \n",
              "freq        2308          2399  "
            ]
          },
          "metadata": {
            "tags": []
          },
          "execution_count": 80
        }
      ]
    },
    {
      "metadata": {
        "id": "F1RTvgoArdzM",
        "colab_type": "code",
        "outputId": "2b501e99-a56a-4c46-e065-16f8ef3c9ca3",
        "colab": {
          "base_uri": "https://localhost:8080/",
          "height": 167
        }
      },
      "cell_type": "code",
      "source": [
        "all_data[obj_data].iloc[:,20:].describe()"
      ],
      "execution_count": 0,
      "outputs": [
        {
          "output_type": "execute_result",
          "data": {
            "text/html": [
              "<div>\n",
              "<style scoped>\n",
              "    .dataframe tbody tr th:only-of-type {\n",
              "        vertical-align: middle;\n",
              "    }\n",
              "\n",
              "    .dataframe tbody tr th {\n",
              "        vertical-align: top;\n",
              "    }\n",
              "\n",
              "    .dataframe thead th {\n",
              "        text-align: right;\n",
              "    }\n",
              "</style>\n",
              "<table border=\"1\" class=\"dataframe\">\n",
              "  <thead>\n",
              "    <tr style=\"text-align: right;\">\n",
              "      <th></th>\n",
              "      <th>SaleType</th>\n",
              "      <th>Utilities</th>\n",
              "    </tr>\n",
              "  </thead>\n",
              "  <tbody>\n",
              "    <tr>\n",
              "      <th>count</th>\n",
              "      <td>2913</td>\n",
              "      <td>2913</td>\n",
              "    </tr>\n",
              "    <tr>\n",
              "      <th>unique</th>\n",
              "      <td>9</td>\n",
              "      <td>2</td>\n",
              "    </tr>\n",
              "    <tr>\n",
              "      <th>top</th>\n",
              "      <td>WD</td>\n",
              "      <td>AllPub</td>\n",
              "    </tr>\n",
              "    <tr>\n",
              "      <th>freq</th>\n",
              "      <td>2524</td>\n",
              "      <td>2912</td>\n",
              "    </tr>\n",
              "  </tbody>\n",
              "</table>\n",
              "</div>"
            ],
            "text/plain": [
              "       SaleType Utilities\n",
              "count      2913      2913\n",
              "unique        9         2\n",
              "top          WD    AllPub\n",
              "freq       2524      2912"
            ]
          },
          "metadata": {
            "tags": []
          },
          "execution_count": 81
        }
      ]
    },
    {
      "metadata": {
        "id": "cja1gHQ6rt2o",
        "colab_type": "code",
        "colab": {}
      },
      "cell_type": "code",
      "source": [
        "all_data = all_data.drop(['Utilities'],axis=1)"
      ],
      "execution_count": 0,
      "outputs": []
    },
    {
      "metadata": {
        "colab_type": "text",
        "id": "o3aI7GDvHMDf"
      },
      "cell_type": "markdown",
      "source": [
        "### Skew 조정"
      ]
    },
    {
      "metadata": {
        "id": "T60vSDs04maq",
        "colab_type": "code",
        "outputId": "1e2c3bf1-f1b8-41de-9f17-dd9581a8ef7e",
        "colab": {
          "base_uri": "https://localhost:8080/",
          "height": 197
        }
      },
      "cell_type": "code",
      "source": [
        "from scipy.stats import skew\n",
        "\n",
        "# Check the skew of all numerical features\n",
        "skewed_feats = all_data[num_data].apply(lambda x: skew(x.dropna())).sort_values(ascending=False)\n",
        "skewness = pd.DataFrame({'Skewed Features' :skewed_feats})\n",
        "skewness.head()"
      ],
      "execution_count": 0,
      "outputs": [
        {
          "output_type": "execute_result",
          "data": {
            "text/html": [
              "<div>\n",
              "<style scoped>\n",
              "    .dataframe tbody tr th:only-of-type {\n",
              "        vertical-align: middle;\n",
              "    }\n",
              "\n",
              "    .dataframe tbody tr th {\n",
              "        vertical-align: top;\n",
              "    }\n",
              "\n",
              "    .dataframe thead th {\n",
              "        text-align: right;\n",
              "    }\n",
              "</style>\n",
              "<table border=\"1\" class=\"dataframe\">\n",
              "  <thead>\n",
              "    <tr style=\"text-align: right;\">\n",
              "      <th></th>\n",
              "      <th>Skewed Features</th>\n",
              "    </tr>\n",
              "  </thead>\n",
              "  <tbody>\n",
              "    <tr>\n",
              "      <th>MiscVal</th>\n",
              "      <td>21.934376</td>\n",
              "    </tr>\n",
              "    <tr>\n",
              "      <th>PoolArea</th>\n",
              "      <td>17.676417</td>\n",
              "    </tr>\n",
              "    <tr>\n",
              "      <th>LotArea</th>\n",
              "      <td>13.159845</td>\n",
              "    </tr>\n",
              "    <tr>\n",
              "      <th>LowQualFinSF</th>\n",
              "      <td>12.076090</td>\n",
              "    </tr>\n",
              "    <tr>\n",
              "      <th>3SsnPorch</th>\n",
              "      <td>11.364106</td>\n",
              "    </tr>\n",
              "  </tbody>\n",
              "</table>\n",
              "</div>"
            ],
            "text/plain": [
              "              Skewed Features\n",
              "MiscVal             21.934376\n",
              "PoolArea            17.676417\n",
              "LotArea             13.159845\n",
              "LowQualFinSF        12.076090\n",
              "3SsnPorch           11.364106"
            ]
          },
          "metadata": {
            "tags": []
          },
          "execution_count": 83
        }
      ]
    },
    {
      "metadata": {
        "id": "bFazxzDc502Q",
        "colab_type": "code",
        "outputId": "e5e8a5c1-4b49-4a40-b962-f966012b7587",
        "colab": {
          "base_uri": "https://localhost:8080/",
          "height": 34
        }
      },
      "cell_type": "code",
      "source": [
        "skewness = skewness[abs(skewness[\"Skewed Features\"]) > 0.75]\n",
        "\n",
        "print(\"There are {} skewed numerical features to Box Cox transform\".format(skewness.shape[0]))\n",
        "\n",
        "from scipy.special import boxcox1p\n",
        "skewed_features = skewness.index\n",
        "lam = 0.15\n",
        "for feat in skewed_features:\n",
        "    all_data[feat] = boxcox1p(all_data[feat], lam)\n",
        "    all_data[feat] += 1"
      ],
      "execution_count": 0,
      "outputs": [
        {
          "output_type": "stream",
          "text": [
            "There are 36 skewed numerical features to Box Cox transform\n"
          ],
          "name": "stdout"
        }
      ]
    },
    {
      "metadata": {
        "id": "hDILTf926e9i",
        "colab_type": "text"
      },
      "cell_type": "markdown",
      "source": [
        "## 4-3 Get Dummies"
      ]
    },
    {
      "metadata": {
        "id": "8-HlgCC1ITo-",
        "colab_type": "code",
        "outputId": "77924e70-dd04-47d7-a560-5ae003d3a147",
        "colab": {
          "base_uri": "https://localhost:8080/",
          "height": 34
        }
      },
      "cell_type": "code",
      "source": [
        "all_data = pd.get_dummies(all_data)\n",
        "print(all_data.shape)"
      ],
      "execution_count": 0,
      "outputs": [
        {
          "output_type": "stream",
          "text": [
            "(2913, 234)\n"
          ],
          "name": "stdout"
        }
      ]
    },
    {
      "metadata": {
        "colab_type": "code",
        "id": "yDT-tX1V8QxI",
        "colab": {}
      },
      "cell_type": "code",
      "source": [
        "train = all_data[:train.shape[0]]\n",
        "test = all_data[train.shape[0]:].reset_index(drop=True)"
      ],
      "execution_count": 0,
      "outputs": []
    },
    {
      "metadata": {
        "id": "-n16Tg1aITnt",
        "colab_type": "text"
      },
      "cell_type": "markdown",
      "source": [
        "# Modeling"
      ]
    },
    {
      "metadata": {
        "id": "yw6ghuMvITVO",
        "colab_type": "code",
        "colab": {}
      },
      "cell_type": "code",
      "source": [
        "from sklearn.linear_model import ElasticNet, Lasso,  BayesianRidge, LassoLarsIC\n",
        "from sklearn.ensemble import RandomForestRegressor,  GradientBoostingRegressor\n",
        "from sklearn.kernel_ridge import KernelRidge\n",
        "from sklearn.pipeline import make_pipeline\n",
        "from sklearn.preprocessing import RobustScaler\n",
        "from sklearn.base import BaseEstimator, TransformerMixin, RegressorMixin, clone\n",
        "from sklearn.model_selection import KFold, cross_val_score, train_test_split\n",
        "from sklearn.metrics import mean_squared_error\n",
        "import xgboost as xgb\n",
        "import lightgbm as lgb"
      ],
      "execution_count": 0,
      "outputs": []
    },
    {
      "metadata": {
        "id": "fR2foy9lITT0",
        "colab_type": "code",
        "colab": {}
      },
      "cell_type": "code",
      "source": [
        "# Cross-validation with k-folds\n",
        "n_folds = 5\n",
        "\n",
        "def rmsle_cv(model):\n",
        "    kf = KFold(n_folds, shuffle=True, random_state=42).get_n_splits(train.values)\n",
        "    rmse= np.sqrt(-cross_val_score(model, train.values, y_train, scoring=\"neg_mean_squared_error\", cv = kf))\n",
        "    return(rmse)"
      ],
      "execution_count": 0,
      "outputs": []
    },
    {
      "metadata": {
        "id": "_t9A53M2ITS_",
        "colab_type": "code",
        "colab": {}
      },
      "cell_type": "code",
      "source": [
        "model_lasso = make_pipeline(RobustScaler(), Lasso(alpha =0.0005, random_state=1))\n",
        "model_ENet = make_pipeline(RobustScaler(), ElasticNet(alpha=0.0005, l1_ratio=.9, random_state=3))\n",
        "model_KRR = KernelRidge(alpha=0.6, kernel='polynomial', degree=2, coef0=2.5)\n",
        "model_GBoost = GradientBoostingRegressor(n_estimators=3000, learning_rate=0.05,\n",
        "                                   max_depth=4, max_features='sqrt',\n",
        "                                   min_samples_leaf=15, min_samples_split=10, \n",
        "                                   loss='huber', random_state =5)\n",
        "model_xgb = xgb.XGBRegressor(colsample_bytree=0.2, gamma=0.0, \n",
        "                             learning_rate=0.05, max_depth=6, \n",
        "                             min_child_weight=1.5, n_estimators=7200,\n",
        "                             reg_alpha=0.9, reg_lambda=0.6,\n",
        "                             subsample=0.2,seed=42, silent=1,\n",
        "                             random_state =7)\n",
        "model_lgb = lgb.LGBMRegressor(objective='regression',num_leaves=5,\n",
        "                              learning_rate=0.05, n_estimators=720,\n",
        "                              max_bin = 55, bagging_fraction = 0.8,\n",
        "                              bagging_freq = 5, feature_fraction = 0.2319,\n",
        "                              feature_fraction_seed=9, bagging_seed=9,\n",
        "                              min_data_in_leaf =6, min_sum_hessian_in_leaf = 11)"
      ],
      "execution_count": 0,
      "outputs": []
    },
    {
      "metadata": {
        "id": "GHGlOZzR64So",
        "colab_type": "code",
        "outputId": "a08ecf3e-48a6-4353-dd97-d3e432dbc91d",
        "colab": {
          "base_uri": "https://localhost:8080/",
          "height": 614
        }
      },
      "cell_type": "code",
      "source": [
        "score = rmsle_cv(lasso)\n",
        "print(\"\\nLasso score: {:.4f} ({:.4f})\\n\".format(score.mean(), score.std()))\n",
        "score = rmsle_cv(ENet)\n",
        "print(\"ElasticNet score: {:.4f} ({:.4f})\\n\".format(score.mean(), score.std()))\n",
        "score = rmsle_cv(KRR)\n",
        "print(\"Kernel Ridge score: {:.4f} ({:.4f})\\n\".format(score.mean(), score.std()))\n",
        "score = rmsle_cv(GBoost)\n",
        "print(\"Gradient Boosting score: {:.4f} ({:.4f})\\n\".format(score.mean(), score.std()))\n",
        "score = rmsle_cv(model_xgb)\n",
        "print(\"Xgboost score: {:.4f} ({:.4f})\\n\".format(score.mean(), score.std()))\n",
        "score = rmsle_cv(model_lgb)\n",
        "print(\"LGBM score: {:.4f} ({:.4f})\\n\" .format(score.mean(), score.std()))"
      ],
      "execution_count": 0,
      "outputs": [
        {
          "output_type": "stream",
          "text": [
            "\n",
            "Lasso score: 0.1100 (0.0068)\n",
            "\n",
            "ElasticNet score: 0.1100 (0.0068)\n",
            "\n",
            "Kernel Ridge score: 0.1774 (0.0066)\n",
            "\n"
          ],
          "name": "stdout"
        },
        {
          "output_type": "stream",
          "text": [
            "/usr/local/lib/python3.6/dist-packages/sklearn/utils/validation.py:761: DataConversionWarning: A column-vector y was passed when a 1d array was expected. Please change the shape of y to (n_samples, ), for example using ravel().\n",
            "  y = column_or_1d(y, warn=True)\n",
            "/usr/local/lib/python3.6/dist-packages/sklearn/utils/validation.py:761: DataConversionWarning: A column-vector y was passed when a 1d array was expected. Please change the shape of y to (n_samples, ), for example using ravel().\n",
            "  y = column_or_1d(y, warn=True)\n",
            "/usr/local/lib/python3.6/dist-packages/sklearn/utils/validation.py:761: DataConversionWarning: A column-vector y was passed when a 1d array was expected. Please change the shape of y to (n_samples, ), for example using ravel().\n",
            "  y = column_or_1d(y, warn=True)\n",
            "/usr/local/lib/python3.6/dist-packages/sklearn/utils/validation.py:761: DataConversionWarning: A column-vector y was passed when a 1d array was expected. Please change the shape of y to (n_samples, ), for example using ravel().\n",
            "  y = column_or_1d(y, warn=True)\n",
            "/usr/local/lib/python3.6/dist-packages/sklearn/utils/validation.py:761: DataConversionWarning: A column-vector y was passed when a 1d array was expected. Please change the shape of y to (n_samples, ), for example using ravel().\n",
            "  y = column_or_1d(y, warn=True)\n"
          ],
          "name": "stderr"
        },
        {
          "output_type": "stream",
          "text": [
            "Gradient Boosting score: 0.1156 (0.0061)\n",
            "\n",
            "Xgboost score: 0.1181 (0.0069)\n",
            "\n"
          ],
          "name": "stdout"
        },
        {
          "output_type": "stream",
          "text": [
            "/usr/local/lib/python3.6/dist-packages/sklearn/utils/validation.py:761: DataConversionWarning: A column-vector y was passed when a 1d array was expected. Please change the shape of y to (n_samples, ), for example using ravel().\n",
            "  y = column_or_1d(y, warn=True)\n",
            "/usr/local/lib/python3.6/dist-packages/sklearn/utils/validation.py:761: DataConversionWarning: A column-vector y was passed when a 1d array was expected. Please change the shape of y to (n_samples, ), for example using ravel().\n",
            "  y = column_or_1d(y, warn=True)\n",
            "/usr/local/lib/python3.6/dist-packages/sklearn/utils/validation.py:761: DataConversionWarning: A column-vector y was passed when a 1d array was expected. Please change the shape of y to (n_samples, ), for example using ravel().\n",
            "  y = column_or_1d(y, warn=True)\n",
            "/usr/local/lib/python3.6/dist-packages/sklearn/utils/validation.py:761: DataConversionWarning: A column-vector y was passed when a 1d array was expected. Please change the shape of y to (n_samples, ), for example using ravel().\n",
            "  y = column_or_1d(y, warn=True)\n",
            "/usr/local/lib/python3.6/dist-packages/sklearn/utils/validation.py:761: DataConversionWarning: A column-vector y was passed when a 1d array was expected. Please change the shape of y to (n_samples, ), for example using ravel().\n",
            "  y = column_or_1d(y, warn=True)\n"
          ],
          "name": "stderr"
        },
        {
          "output_type": "stream",
          "text": [
            "LGBM score: 0.1162 (0.0059)\n",
            "\n"
          ],
          "name": "stdout"
        }
      ]
    },
    {
      "metadata": {
        "id": "knzRRkZ1sX4W",
        "colab_type": "code",
        "colab": {}
      },
      "cell_type": "code",
      "source": [
        "def rmsle(y, y_pred):\n",
        "    return np.sqrt(mean_squared_error(y, y_pred))"
      ],
      "execution_count": 0,
      "outputs": []
    },
    {
      "metadata": {
        "id": "V8rhDZDeITLt",
        "colab_type": "code",
        "outputId": "c4fd54c6-ff58-4547-8df3-9963730e0fef",
        "colab": {
          "base_uri": "https://localhost:8080/",
          "height": 34
        }
      },
      "cell_type": "code",
      "source": [
        "model_xgb.fit(train, y_train)\n",
        "xgb_train_pred = model_xgb.predict(train)\n",
        "xgb_pred = np.expm1(model_xgb.predict(test))\n",
        "print(rmsle(y_train, xgb_train_pred))"
      ],
      "execution_count": 0,
      "outputs": [
        {
          "output_type": "stream",
          "text": [
            "0.04243944708216841\n"
          ],
          "name": "stdout"
        }
      ]
    },
    {
      "metadata": {
        "id": "HAcA1srL2b8v",
        "colab_type": "code",
        "outputId": "610a51ba-5113-414b-cba5-bad7271fa137",
        "colab": {
          "base_uri": "https://localhost:8080/",
          "height": 34
        }
      },
      "cell_type": "code",
      "source": [
        "model_lasso.fit(train, y_train)\n",
        "lasso_train_pred = model_lasso.predict(train)\n",
        "lasso_pred = np.expm1(model_lasso.predict(test))\n",
        "print(rmsle(y_train, lasso_train_pred))"
      ],
      "execution_count": 0,
      "outputs": [
        {
          "output_type": "stream",
          "text": [
            "0.10034209982133235\n"
          ],
          "name": "stdout"
        }
      ]
    },
    {
      "metadata": {
        "id": "DodvE5X24VkE",
        "colab_type": "code",
        "outputId": "430ceb2e-1ea1-40e5-a394-1ab5a8b9834d",
        "colab": {
          "base_uri": "https://localhost:8080/",
          "height": 34
        }
      },
      "cell_type": "code",
      "source": [
        "model_ENet.fit(train, y_train)\n",
        "ENet_train_pred = model_ENet.predict(train)\n",
        "ENet_pred = np.expm1(model_ENet.predict(test))\n",
        "print(rmsle(y_train, ENet_train_pred))"
      ],
      "execution_count": 0,
      "outputs": [
        {
          "output_type": "stream",
          "text": [
            "0.09976112690603398\n"
          ],
          "name": "stdout"
        }
      ]
    },
    {
      "metadata": {
        "id": "Wh3zOGaj4ryB",
        "colab_type": "code",
        "outputId": "065fb5de-2f16-4818-fa5a-bd47ea1240b6",
        "colab": {
          "base_uri": "https://localhost:8080/",
          "height": 34
        }
      },
      "cell_type": "code",
      "source": [
        "model_lgb.fit(train, y_train)\n",
        "lgb_train_pred = model_lgb.predict(train)\n",
        "lgb_pred = np.expm1(model_lgb.predict(test))\n",
        "print(rmsle(y_train, lgb_train_pred))"
      ],
      "execution_count": 0,
      "outputs": [
        {
          "output_type": "stream",
          "text": [
            "0.0729414689458942\n"
          ],
          "name": "stdout"
        }
      ]
    },
    {
      "metadata": {
        "id": "_4BOj_siITKu",
        "colab_type": "code",
        "colab": {}
      },
      "cell_type": "code",
      "source": [
        "sub = pd.DataFrame()\n",
        "sub['Id'] = test_ID\n",
        "sub['SalePrice'] = xgb_pred\n",
        "sub.to_csv('submission.csv',index=False)"
      ],
      "execution_count": 0,
      "outputs": []
    },
    {
      "metadata": {
        "id": "UcgPUIo-ITJV",
        "colab_type": "code",
        "outputId": "fe033b18-681e-418c-ecc2-beb38621167e",
        "colab": {
          "base_uri": "https://localhost:8080/",
          "height": 52
        }
      },
      "cell_type": "code",
      "source": [
        "!kaggle competitions submit house-prices-advanced-regression-techniques -f submission.csv -m \"My final submission message\""
      ],
      "execution_count": 0,
      "outputs": [
        {
          "output_type": "stream",
          "text": [
            "100% 21.1k/21.1k [00:06<00:00, 3.17kB/s]\n",
            "Successfully submitted to House Prices: Advanced Regression Techniques"
          ],
          "name": "stdout"
        }
      ]
    }
  ]
}